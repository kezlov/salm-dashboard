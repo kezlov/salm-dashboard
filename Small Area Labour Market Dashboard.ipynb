{
 "cells": [
  {
   "cell_type": "code",
   "execution_count": 1,
   "metadata": {},
   "outputs": [],
   "source": [
    "import pandas as pd\n",
    "import numpy as np\n",
    "import datetime\n",
    "import plotly as py\n",
    "import plotly.graph_objs as go\n",
    "import ipywidgets as widgets\n",
    "from scipy import special\n",
    "from plotly.offline import download_plotlyjs, init_notebook_mode, plot, iplot\n",
    "df = pd.read_csv(\"https://docs.employment.gov.au/system/files/doc/other/salm_smoothed_sa2_datafiles_asgs_2016_-_december_quarter_2019.csv\", header=1) "
   ]
  },
  {
   "cell_type": "code",
   "execution_count": 2,
   "metadata": {},
   "outputs": [],
   "source": [
    "#Column Cleaning\n",
    "df = df[1:]\n",
    "df = df.rename(columns={'Data Item': 'Labour Force Category', \n",
    "                            'Statistical Area Level 2 (SA2) (2016 ASGS)': 'SA2_Name', \n",
    "                            'SA2 Code (2016 ASGS)': 'SA2_Code'\n",
    "                           })\n",
    "\n",
    "#Category Cleaning\n",
    "df[\"Labour Force Category\"]= df[\"Labour Force Category\"].replace(\"Smoothed unemployment (persons)\", \"Unemployed\")\n",
    "df[\"Labour Force Category\"]= df[\"Labour Force Category\"].replace(\"Smoothed labour force (persons)\", \"Labour Force\") \n",
    "df[\"Labour Force Category\"]= df[\"Labour Force Category\"].replace(\"Smoothed unemployment rate (%)\", \"Unemployment Rate\") \n",
    "\n",
    "#SA2_Code from Float to Integer\n",
    "df['SA2_Code'] = pd.to_numeric(df[\"SA2_Code\"], downcast='signed')\n",
    "\n",
    "#Creating State Code\n",
    "df['State_Code'] = df['SA2_Code'].astype(str).str[0]\n",
    "\n",
    "#Adding State Name\n",
    "state_list = [\n",
    "    ['NSW', '1'],\n",
    "    ['VIC', '2'],\n",
    "    ['QLD', '3'],\n",
    "    ['SA', '4'],\n",
    "    ['WA', '5'],\n",
    "    ['TAS', '6'],\n",
    "    ['NT', '7'],\n",
    "    ['ACT', '8']\n",
    "]\n",
    "state_list = pd.DataFrame(state_list, columns = ['State_Name', 'State_Code'])\n",
    "\n",
    "#Merging State Name into df (i.e like an Index/Match)\n",
    "df = pd.merge(df, state_list, on='State_Code')\n",
    "\n",
    "#Cleaning up the data and then re-joining it all together (First Part)\n",
    "df1 = df.iloc[:,:3]\n",
    "df2 = df.iloc[:,-2:]\n",
    "starting_df = pd.concat([df1,df2], axis=1)\n",
    "starting_df\n",
    "\n",
    "#Cleaning up the data and then re-joining it all together (Second Part)\n",
    "df3 = df.iloc[:,3:-2]\n",
    "df3 = df3.replace('-','0')\n",
    "df3 = df3.replace(',','', regex=True)\n",
    "ending_df = df3.astype(float)\n",
    "salm = pd.concat([starting_df,ending_df], axis=1)\n",
    "\n",
    "#Replacing column names with dates\n",
    "date_string = salm.columns[5:].to_list()\n",
    "changed_date = []\n",
    "for d in date_string:\n",
    "    d = datetime.datetime.strptime(d, '%b-%y').strftime(\"%m/%Y\")\n",
    "    changed_date.append(d)\n",
    "\n",
    "datetime_columns = pd.DataFrame(changed_date, columns =['Date'])\n",
    "salm.columns.values[5:] = datetime_columns['Date']\n",
    "\n",
    "#extracting the first few classification columns to then concat to the percentages\n",
    "titles = salm.iloc[:,:5]\n",
    "\n",
    "#adding quarterly percentages\n",
    "percent_columns = salm.iloc[:,5:]\n",
    "percent_columns = percent_columns.pct_change(axis=1)\n",
    "percent_columns = percent_columns.fillna(0)\n",
    "salm_percent = pd.concat([titles, percent_columns], axis=1)\n",
    "\n",
    "#Adding in ID Columns\n",
    "salm.insert(0, 'ID', range(1, 1+ len(salm)))\n",
    "salm_percent.insert(0, 'ID', range(1, 1+ len(salm_percent)))\n",
    "\n",
    "#Melting from wide to long\n",
    "salm = pd.melt(salm, id_vars=['ID','Labour Force Category','SA2_Name','SA2_Code','State_Code','State_Name'])\n",
    "salm_percent = pd.melt(salm_percent, id_vars=['ID','Labour Force Category','SA2_Name','SA2_Code','State_Code','State_Name'])\n",
    "\n",
    "#Changing Column Name\n",
    "salm = salm.rename(columns={'variable': 'Quarter', 'value': 'Level'})\n",
    "salm_percent = salm_percent.rename(columns={'variable': 'Quarter', 'value': 'Growth'})\n",
    "\n",
    "#Adjusting to Datetime\n",
    "salm['Quarter'] = pd.to_datetime(salm['Quarter'])\n",
    "salm_percent['Quarter'] = pd.to_datetime(salm_percent['Quarter'])\n",
    "\n",
    "#Joining up ASGS Geographies\n",
    "asgs = pd.read_csv(\"/Users/PeteKlestov/Scripts/Property/Property Monitor/01 Geography/SA1_2016_AUST.csv\")\n",
    "target_asgs = asgs[['SA2_MAINCODE_2016',\n",
    "                    'SA2_NAME_2016',\n",
    "                    'SA3_CODE_2016',\n",
    "                    'SA3_NAME_2016',\n",
    "                    'SA4_CODE_2016',\n",
    "                    'SA4_NAME_2016',\n",
    "                    'GCCSA_CODE_2016',\n",
    "                    'STATE_NAME_2016']]\n",
    "\n",
    "#Dropping duplicates, merging and dropping columns\n",
    "target_asgs = target_asgs.drop_duplicates()\n",
    "\n",
    "salm = pd.merge(salm, target_asgs, left_on='SA2_Code', right_on='SA2_MAINCODE_2016', how='inner')\n",
    "salm_percent = pd.merge(salm_percent, target_asgs, left_on='SA2_Code', right_on='SA2_MAINCODE_2016', how='inner')\n",
    "\n",
    "salm = salm.drop(['SA2_Name', 'SA2_Code', 'State_Code','State_Name'], axis=1)\n",
    "salm_percent = salm_percent.drop(['SA2_Name', 'SA2_Code', 'State_Code','State_Name'], axis=1)\n",
    "\n",
    "#Moving columns around\n",
    "salm = salm[['ID',\n",
    "             'SA2_MAINCODE_2016',\n",
    "             'SA2_NAME_2016',\n",
    "             'SA3_CODE_2016',\n",
    "             'SA3_NAME_2016',\n",
    "             'SA4_CODE_2016',\n",
    "             'SA4_NAME_2016',\n",
    "             'GCCSA_CODE_2016',\n",
    "             'Labour Force Category',\n",
    "             'Quarter',\n",
    "             'Level']]\n",
    "\n",
    "salm_percent = salm_percent[['ID',\n",
    "             'SA2_MAINCODE_2016',\n",
    "             'SA2_NAME_2016',\n",
    "             'SA3_CODE_2016',\n",
    "             'SA3_NAME_2016',\n",
    "             'SA4_CODE_2016',\n",
    "             'SA4_NAME_2016',\n",
    "             'GCCSA_CODE_2016',\n",
    "             'Labour Force Category',\n",
    "             'Quarter',\n",
    "             'Growth']]\n",
    "\n",
    "#sorting and resetting the index\n",
    "salm = salm.sort_values(by=['ID','Labour Force Category']).reset_index(drop=True)\n",
    "salm_percent = salm_percent.sort_values(by=['ID','Labour Force Category']).reset_index(drop=True)\n",
    "salm_ts = salm.set_index('Quarter')"
   ]
  },
  {
   "cell_type": "code",
   "execution_count": 3,
   "metadata": {
    "scrolled": false
   },
   "outputs": [
    {
     "data": {
      "text/html": [
       "<div>\n",
       "<style scoped>\n",
       "    .dataframe tbody tr th:only-of-type {\n",
       "        vertical-align: middle;\n",
       "    }\n",
       "\n",
       "    .dataframe tbody tr th {\n",
       "        vertical-align: top;\n",
       "    }\n",
       "\n",
       "    .dataframe thead th {\n",
       "        text-align: right;\n",
       "    }\n",
       "</style>\n",
       "<table border=\"1\" class=\"dataframe\">\n",
       "  <thead>\n",
       "    <tr style=\"text-align: right;\">\n",
       "      <th></th>\n",
       "      <th>ID</th>\n",
       "      <th>SA2_MAINCODE_2016</th>\n",
       "      <th>SA2_NAME_2016</th>\n",
       "      <th>SA3_CODE_2016</th>\n",
       "      <th>SA3_NAME_2016</th>\n",
       "      <th>SA4_CODE_2016</th>\n",
       "      <th>SA4_NAME_2016</th>\n",
       "      <th>GCCSA_CODE_2016</th>\n",
       "      <th>Labour Force Category</th>\n",
       "      <th>Quarter</th>\n",
       "      <th>Level</th>\n",
       "    </tr>\n",
       "  </thead>\n",
       "  <tbody>\n",
       "    <tr>\n",
       "      <th>0</th>\n",
       "      <td>1</td>\n",
       "      <td>101021008</td>\n",
       "      <td>Karabar</td>\n",
       "      <td>10102</td>\n",
       "      <td>Queanbeyan</td>\n",
       "      <td>101</td>\n",
       "      <td>Capital Region</td>\n",
       "      <td>1RNSW</td>\n",
       "      <td>Unemployed</td>\n",
       "      <td>2010-12-01</td>\n",
       "      <td>132.0</td>\n",
       "    </tr>\n",
       "    <tr>\n",
       "      <th>1</th>\n",
       "      <td>1</td>\n",
       "      <td>101021008</td>\n",
       "      <td>Karabar</td>\n",
       "      <td>10102</td>\n",
       "      <td>Queanbeyan</td>\n",
       "      <td>101</td>\n",
       "      <td>Capital Region</td>\n",
       "      <td>1RNSW</td>\n",
       "      <td>Unemployed</td>\n",
       "      <td>2011-03-01</td>\n",
       "      <td>99.0</td>\n",
       "    </tr>\n",
       "    <tr>\n",
       "      <th>2</th>\n",
       "      <td>1</td>\n",
       "      <td>101021008</td>\n",
       "      <td>Karabar</td>\n",
       "      <td>10102</td>\n",
       "      <td>Queanbeyan</td>\n",
       "      <td>101</td>\n",
       "      <td>Capital Region</td>\n",
       "      <td>1RNSW</td>\n",
       "      <td>Unemployed</td>\n",
       "      <td>2011-06-01</td>\n",
       "      <td>88.0</td>\n",
       "    </tr>\n",
       "    <tr>\n",
       "      <th>3</th>\n",
       "      <td>1</td>\n",
       "      <td>101021008</td>\n",
       "      <td>Karabar</td>\n",
       "      <td>10102</td>\n",
       "      <td>Queanbeyan</td>\n",
       "      <td>101</td>\n",
       "      <td>Capital Region</td>\n",
       "      <td>1RNSW</td>\n",
       "      <td>Unemployed</td>\n",
       "      <td>2011-09-01</td>\n",
       "      <td>83.0</td>\n",
       "    </tr>\n",
       "    <tr>\n",
       "      <th>4</th>\n",
       "      <td>1</td>\n",
       "      <td>101021008</td>\n",
       "      <td>Karabar</td>\n",
       "      <td>10102</td>\n",
       "      <td>Queanbeyan</td>\n",
       "      <td>101</td>\n",
       "      <td>Capital Region</td>\n",
       "      <td>1RNSW</td>\n",
       "      <td>Unemployed</td>\n",
       "      <td>2011-12-01</td>\n",
       "      <td>91.0</td>\n",
       "    </tr>\n",
       "  </tbody>\n",
       "</table>\n",
       "</div>"
      ],
      "text/plain": [
       "   ID  SA2_MAINCODE_2016 SA2_NAME_2016  SA3_CODE_2016 SA3_NAME_2016  \\\n",
       "0   1          101021008       Karabar          10102    Queanbeyan   \n",
       "1   1          101021008       Karabar          10102    Queanbeyan   \n",
       "2   1          101021008       Karabar          10102    Queanbeyan   \n",
       "3   1          101021008       Karabar          10102    Queanbeyan   \n",
       "4   1          101021008       Karabar          10102    Queanbeyan   \n",
       "\n",
       "   SA4_CODE_2016   SA4_NAME_2016 GCCSA_CODE_2016 Labour Force Category  \\\n",
       "0            101  Capital Region           1RNSW            Unemployed   \n",
       "1            101  Capital Region           1RNSW            Unemployed   \n",
       "2            101  Capital Region           1RNSW            Unemployed   \n",
       "3            101  Capital Region           1RNSW            Unemployed   \n",
       "4            101  Capital Region           1RNSW            Unemployed   \n",
       "\n",
       "     Quarter  Level  \n",
       "0 2010-12-01  132.0  \n",
       "1 2011-03-01   99.0  \n",
       "2 2011-06-01   88.0  \n",
       "3 2011-09-01   83.0  \n",
       "4 2011-12-01   91.0  "
      ]
     },
     "execution_count": 3,
     "metadata": {},
     "output_type": "execute_result"
    }
   ],
   "source": [
    "salm.head()"
   ]
  },
  {
   "cell_type": "code",
   "execution_count": 4,
   "metadata": {},
   "outputs": [
    {
     "data": {
      "text/html": [
       "<div>\n",
       "<style scoped>\n",
       "    .dataframe tbody tr th:only-of-type {\n",
       "        vertical-align: middle;\n",
       "    }\n",
       "\n",
       "    .dataframe tbody tr th {\n",
       "        vertical-align: top;\n",
       "    }\n",
       "\n",
       "    .dataframe thead th {\n",
       "        text-align: right;\n",
       "    }\n",
       "</style>\n",
       "<table border=\"1\" class=\"dataframe\">\n",
       "  <thead>\n",
       "    <tr style=\"text-align: right;\">\n",
       "      <th></th>\n",
       "      <th>Quarter</th>\n",
       "      <th>Labour Force Category</th>\n",
       "      <th>SA4_NAME_2016</th>\n",
       "      <th>SA4 Average</th>\n",
       "    </tr>\n",
       "  </thead>\n",
       "  <tbody>\n",
       "    <tr>\n",
       "      <th>0</th>\n",
       "      <td>2010-12-01</td>\n",
       "      <td>Labour Force</td>\n",
       "      <td>Adelaide - Central and Hills</td>\n",
       "      <td>6568.041667</td>\n",
       "    </tr>\n",
       "    <tr>\n",
       "      <th>1</th>\n",
       "      <td>2010-12-01</td>\n",
       "      <td>Labour Force</td>\n",
       "      <td>Adelaide - North</td>\n",
       "      <td>6333.933333</td>\n",
       "    </tr>\n",
       "    <tr>\n",
       "      <th>2</th>\n",
       "      <td>2010-12-01</td>\n",
       "      <td>Labour Force</td>\n",
       "      <td>Adelaide - South</td>\n",
       "      <td>6022.562500</td>\n",
       "    </tr>\n",
       "    <tr>\n",
       "      <th>3</th>\n",
       "      <td>2010-12-01</td>\n",
       "      <td>Labour Force</td>\n",
       "      <td>Adelaide - West</td>\n",
       "      <td>6667.176471</td>\n",
       "    </tr>\n",
       "    <tr>\n",
       "      <th>4</th>\n",
       "      <td>2010-12-01</td>\n",
       "      <td>Labour Force</td>\n",
       "      <td>Australian Capital Territory</td>\n",
       "      <td>1941.952830</td>\n",
       "    </tr>\n",
       "  </tbody>\n",
       "</table>\n",
       "</div>"
      ],
      "text/plain": [
       "     Quarter Labour Force Category                 SA4_NAME_2016  SA4 Average\n",
       "0 2010-12-01          Labour Force  Adelaide - Central and Hills  6568.041667\n",
       "1 2010-12-01          Labour Force              Adelaide - North  6333.933333\n",
       "2 2010-12-01          Labour Force              Adelaide - South  6022.562500\n",
       "3 2010-12-01          Labour Force               Adelaide - West  6667.176471\n",
       "4 2010-12-01          Labour Force  Australian Capital Territory  1941.952830"
      ]
     },
     "execution_count": 4,
     "metadata": {},
     "output_type": "execute_result"
    }
   ],
   "source": [
    "#comparing it to what's happening within the wider SA4\n",
    "salm_benchmark = salm.groupby(['Quarter','Labour Force Category','SA4_NAME_2016']).mean()\n",
    "salm_benchmark = salm_benchmark.drop(['ID','SA2_MAINCODE_2016','SA3_CODE_2016','SA4_CODE_2016'], axis=1)\n",
    "salm_benchmark = salm_benchmark.reset_index()\n",
    "salm_benchmark = salm_benchmark.rename(columns={'Level':'SA4 Average'})\n",
    "salm_benchmark.head()"
   ]
  },
  {
   "cell_type": "code",
   "execution_count": 5,
   "metadata": {
    "scrolled": true
   },
   "outputs": [
    {
     "data": {
      "text/html": [
       "<div>\n",
       "<style scoped>\n",
       "    .dataframe tbody tr th:only-of-type {\n",
       "        vertical-align: middle;\n",
       "    }\n",
       "\n",
       "    .dataframe tbody tr th {\n",
       "        vertical-align: top;\n",
       "    }\n",
       "\n",
       "    .dataframe thead th {\n",
       "        text-align: right;\n",
       "    }\n",
       "</style>\n",
       "<table border=\"1\" class=\"dataframe\">\n",
       "  <thead>\n",
       "    <tr style=\"text-align: right;\">\n",
       "      <th></th>\n",
       "      <th>ID</th>\n",
       "      <th>SA2_MAINCODE_2016</th>\n",
       "      <th>SA2_NAME_2016</th>\n",
       "      <th>SA3_CODE_2016</th>\n",
       "      <th>SA3_NAME_2016</th>\n",
       "      <th>SA4_CODE_2016</th>\n",
       "      <th>SA4_NAME_2016</th>\n",
       "      <th>GCCSA_CODE_2016</th>\n",
       "      <th>Labour Force Category</th>\n",
       "      <th>Quarter</th>\n",
       "      <th>Level</th>\n",
       "      <th>SA4 Average</th>\n",
       "      <th>Difference</th>\n",
       "    </tr>\n",
       "  </thead>\n",
       "  <tbody>\n",
       "    <tr>\n",
       "      <th>0</th>\n",
       "      <td>1</td>\n",
       "      <td>101021008</td>\n",
       "      <td>Karabar</td>\n",
       "      <td>10102</td>\n",
       "      <td>Queanbeyan</td>\n",
       "      <td>101</td>\n",
       "      <td>Capital Region</td>\n",
       "      <td>1RNSW</td>\n",
       "      <td>Unemployed</td>\n",
       "      <td>2010-12-01</td>\n",
       "      <td>132.0</td>\n",
       "      <td>199.36</td>\n",
       "      <td>-67.36</td>\n",
       "    </tr>\n",
       "    <tr>\n",
       "      <th>1</th>\n",
       "      <td>2</td>\n",
       "      <td>101021009</td>\n",
       "      <td>Queanbeyan</td>\n",
       "      <td>10102</td>\n",
       "      <td>Queanbeyan</td>\n",
       "      <td>101</td>\n",
       "      <td>Capital Region</td>\n",
       "      <td>1RNSW</td>\n",
       "      <td>Unemployed</td>\n",
       "      <td>2010-12-01</td>\n",
       "      <td>209.0</td>\n",
       "      <td>199.36</td>\n",
       "      <td>9.64</td>\n",
       "    </tr>\n",
       "    <tr>\n",
       "      <th>2</th>\n",
       "      <td>3</td>\n",
       "      <td>101021010</td>\n",
       "      <td>Queanbeyan - East</td>\n",
       "      <td>10102</td>\n",
       "      <td>Queanbeyan</td>\n",
       "      <td>101</td>\n",
       "      <td>Capital Region</td>\n",
       "      <td>1RNSW</td>\n",
       "      <td>Unemployed</td>\n",
       "      <td>2010-12-01</td>\n",
       "      <td>50.0</td>\n",
       "      <td>199.36</td>\n",
       "      <td>-149.36</td>\n",
       "    </tr>\n",
       "    <tr>\n",
       "      <th>3</th>\n",
       "      <td>4</td>\n",
       "      <td>101021011</td>\n",
       "      <td>Queanbeyan Region</td>\n",
       "      <td>10102</td>\n",
       "      <td>Queanbeyan</td>\n",
       "      <td>101</td>\n",
       "      <td>Capital Region</td>\n",
       "      <td>1RNSW</td>\n",
       "      <td>Unemployed</td>\n",
       "      <td>2010-12-01</td>\n",
       "      <td>78.0</td>\n",
       "      <td>199.36</td>\n",
       "      <td>-121.36</td>\n",
       "    </tr>\n",
       "    <tr>\n",
       "      <th>4</th>\n",
       "      <td>5</td>\n",
       "      <td>101021012</td>\n",
       "      <td>Queanbeyan West - Jerrabomberra</td>\n",
       "      <td>10102</td>\n",
       "      <td>Queanbeyan</td>\n",
       "      <td>101</td>\n",
       "      <td>Capital Region</td>\n",
       "      <td>1RNSW</td>\n",
       "      <td>Unemployed</td>\n",
       "      <td>2010-12-01</td>\n",
       "      <td>97.0</td>\n",
       "      <td>199.36</td>\n",
       "      <td>-102.36</td>\n",
       "    </tr>\n",
       "  </tbody>\n",
       "</table>\n",
       "</div>"
      ],
      "text/plain": [
       "   ID  SA2_MAINCODE_2016                    SA2_NAME_2016  SA3_CODE_2016  \\\n",
       "0   1          101021008                          Karabar          10102   \n",
       "1   2          101021009                       Queanbeyan          10102   \n",
       "2   3          101021010                Queanbeyan - East          10102   \n",
       "3   4          101021011                Queanbeyan Region          10102   \n",
       "4   5          101021012  Queanbeyan West - Jerrabomberra          10102   \n",
       "\n",
       "  SA3_NAME_2016  SA4_CODE_2016   SA4_NAME_2016 GCCSA_CODE_2016  \\\n",
       "0    Queanbeyan            101  Capital Region           1RNSW   \n",
       "1    Queanbeyan            101  Capital Region           1RNSW   \n",
       "2    Queanbeyan            101  Capital Region           1RNSW   \n",
       "3    Queanbeyan            101  Capital Region           1RNSW   \n",
       "4    Queanbeyan            101  Capital Region           1RNSW   \n",
       "\n",
       "  Labour Force Category    Quarter  Level  SA4 Average  Difference  \n",
       "0            Unemployed 2010-12-01  132.0       199.36      -67.36  \n",
       "1            Unemployed 2010-12-01  209.0       199.36        9.64  \n",
       "2            Unemployed 2010-12-01   50.0       199.36     -149.36  \n",
       "3            Unemployed 2010-12-01   78.0       199.36     -121.36  \n",
       "4            Unemployed 2010-12-01   97.0       199.36     -102.36  "
      ]
     },
     "execution_count": 5,
     "metadata": {},
     "output_type": "execute_result"
    }
   ],
   "source": [
    "#merging average back onto original df\n",
    "salm_benched = pd.merge(salm, salm_benchmark, on=['Quarter','Labour Force Category', 'SA4_NAME_2016'])\n",
    "salm_benched['Difference'] = salm_benched['Level'] - salm_benched['SA4 Average']\n",
    "salm_benched.head()\n",
    "\n",
    "#add in moving average\n",
    "#salm_benchmark['Moving Average'] = salm_benchmark['Level'].rolling(window=4).mean()"
   ]
  },
  {
   "cell_type": "code",
   "execution_count": 6,
   "metadata": {
    "scrolled": false
   },
   "outputs": [
    {
     "data": {
      "text/html": [
       "<div>\n",
       "<style scoped>\n",
       "    .dataframe tbody tr th:only-of-type {\n",
       "        vertical-align: middle;\n",
       "    }\n",
       "\n",
       "    .dataframe tbody tr th {\n",
       "        vertical-align: top;\n",
       "    }\n",
       "\n",
       "    .dataframe thead th {\n",
       "        text-align: right;\n",
       "    }\n",
       "</style>\n",
       "<table border=\"1\" class=\"dataframe\">\n",
       "  <thead>\n",
       "    <tr style=\"text-align: right;\">\n",
       "      <th></th>\n",
       "      <th>ID</th>\n",
       "      <th>SA2_MAINCODE_2016</th>\n",
       "      <th>SA2_NAME_2016</th>\n",
       "      <th>SA3_CODE_2016</th>\n",
       "      <th>SA3_NAME_2016</th>\n",
       "      <th>SA4_CODE_2016</th>\n",
       "      <th>SA4_NAME_2016</th>\n",
       "      <th>GCCSA_CODE_2016</th>\n",
       "      <th>Labour Force Category</th>\n",
       "      <th>Quarter</th>\n",
       "      <th>Level</th>\n",
       "      <th>SA4 Average</th>\n",
       "      <th>Difference</th>\n",
       "    </tr>\n",
       "  </thead>\n",
       "  <tbody>\n",
       "    <tr>\n",
       "      <th>0</th>\n",
       "      <td>556</td>\n",
       "      <td>101021007</td>\n",
       "      <td>Braidwood</td>\n",
       "      <td>10102</td>\n",
       "      <td>Queanbeyan</td>\n",
       "      <td>101</td>\n",
       "      <td>Capital Region</td>\n",
       "      <td>1RNSW</td>\n",
       "      <td>Labour Force</td>\n",
       "      <td>2010-12-01</td>\n",
       "      <td>1773.0</td>\n",
       "      <td>4166.076923</td>\n",
       "      <td>-2393.076923</td>\n",
       "    </tr>\n",
       "    <tr>\n",
       "      <th>1</th>\n",
       "      <td>556</td>\n",
       "      <td>101021007</td>\n",
       "      <td>Braidwood</td>\n",
       "      <td>10102</td>\n",
       "      <td>Queanbeyan</td>\n",
       "      <td>101</td>\n",
       "      <td>Capital Region</td>\n",
       "      <td>1RNSW</td>\n",
       "      <td>Labour Force</td>\n",
       "      <td>2011-03-01</td>\n",
       "      <td>1814.0</td>\n",
       "      <td>4263.961538</td>\n",
       "      <td>-2449.961538</td>\n",
       "    </tr>\n",
       "    <tr>\n",
       "      <th>2</th>\n",
       "      <td>556</td>\n",
       "      <td>101021007</td>\n",
       "      <td>Braidwood</td>\n",
       "      <td>10102</td>\n",
       "      <td>Queanbeyan</td>\n",
       "      <td>101</td>\n",
       "      <td>Capital Region</td>\n",
       "      <td>1RNSW</td>\n",
       "      <td>Labour Force</td>\n",
       "      <td>2011-06-01</td>\n",
       "      <td>1838.0</td>\n",
       "      <td>4322.576923</td>\n",
       "      <td>-2484.576923</td>\n",
       "    </tr>\n",
       "    <tr>\n",
       "      <th>3</th>\n",
       "      <td>556</td>\n",
       "      <td>101021007</td>\n",
       "      <td>Braidwood</td>\n",
       "      <td>10102</td>\n",
       "      <td>Queanbeyan</td>\n",
       "      <td>101</td>\n",
       "      <td>Capital Region</td>\n",
       "      <td>1RNSW</td>\n",
       "      <td>Labour Force</td>\n",
       "      <td>2011-09-01</td>\n",
       "      <td>1858.0</td>\n",
       "      <td>4372.461538</td>\n",
       "      <td>-2514.461538</td>\n",
       "    </tr>\n",
       "    <tr>\n",
       "      <th>4</th>\n",
       "      <td>556</td>\n",
       "      <td>101021007</td>\n",
       "      <td>Braidwood</td>\n",
       "      <td>10102</td>\n",
       "      <td>Queanbeyan</td>\n",
       "      <td>101</td>\n",
       "      <td>Capital Region</td>\n",
       "      <td>1RNSW</td>\n",
       "      <td>Labour Force</td>\n",
       "      <td>2011-12-01</td>\n",
       "      <td>1876.0</td>\n",
       "      <td>4416.730769</td>\n",
       "      <td>-2540.730769</td>\n",
       "    </tr>\n",
       "  </tbody>\n",
       "</table>\n",
       "</div>"
      ],
      "text/plain": [
       "    ID  SA2_MAINCODE_2016 SA2_NAME_2016  SA3_CODE_2016 SA3_NAME_2016  \\\n",
       "0  556          101021007     Braidwood          10102    Queanbeyan   \n",
       "1  556          101021007     Braidwood          10102    Queanbeyan   \n",
       "2  556          101021007     Braidwood          10102    Queanbeyan   \n",
       "3  556          101021007     Braidwood          10102    Queanbeyan   \n",
       "4  556          101021007     Braidwood          10102    Queanbeyan   \n",
       "\n",
       "   SA4_CODE_2016   SA4_NAME_2016 GCCSA_CODE_2016 Labour Force Category  \\\n",
       "0            101  Capital Region           1RNSW          Labour Force   \n",
       "1            101  Capital Region           1RNSW          Labour Force   \n",
       "2            101  Capital Region           1RNSW          Labour Force   \n",
       "3            101  Capital Region           1RNSW          Labour Force   \n",
       "4            101  Capital Region           1RNSW          Labour Force   \n",
       "\n",
       "     Quarter   Level  SA4 Average   Difference  \n",
       "0 2010-12-01  1773.0  4166.076923 -2393.076923  \n",
       "1 2011-03-01  1814.0  4263.961538 -2449.961538  \n",
       "2 2011-06-01  1838.0  4322.576923 -2484.576923  \n",
       "3 2011-09-01  1858.0  4372.461538 -2514.461538  \n",
       "4 2011-12-01  1876.0  4416.730769 -2540.730769  "
      ]
     },
     "execution_count": 6,
     "metadata": {},
     "output_type": "execute_result"
    }
   ],
   "source": [
    "#getting the combined df into a time-series order for each SA2\n",
    "\n",
    "salm_benched = salm_benched.sort_values(by=['SA2_MAINCODE_2016','Labour Force Category','Quarter']).reset_index()\n",
    "salm_benched = salm_benched.drop(['index'], axis = 1)\n",
    "salm_benched.head()"
   ]
  },
  {
   "cell_type": "code",
   "execution_count": 7,
   "metadata": {},
   "outputs": [
    {
     "data": {
      "text/html": [
       "<div>\n",
       "<style scoped>\n",
       "    .dataframe tbody tr th:only-of-type {\n",
       "        vertical-align: middle;\n",
       "    }\n",
       "\n",
       "    .dataframe tbody tr th {\n",
       "        vertical-align: top;\n",
       "    }\n",
       "\n",
       "    .dataframe thead th {\n",
       "        text-align: right;\n",
       "    }\n",
       "</style>\n",
       "<table border=\"1\" class=\"dataframe\">\n",
       "  <thead>\n",
       "    <tr style=\"text-align: right;\">\n",
       "      <th></th>\n",
       "      <th>ID</th>\n",
       "      <th>SA2_MAINCODE_2016</th>\n",
       "      <th>SA2_NAME_2016</th>\n",
       "      <th>SA3_CODE_2016</th>\n",
       "      <th>SA3_NAME_2016</th>\n",
       "      <th>SA4_CODE_2016</th>\n",
       "      <th>SA4_NAME_2016</th>\n",
       "      <th>GCCSA_CODE_2016</th>\n",
       "      <th>Labour Force Category</th>\n",
       "      <th>Quarter</th>\n",
       "      <th>Level</th>\n",
       "      <th>SA4 Average</th>\n",
       "      <th>Difference</th>\n",
       "    </tr>\n",
       "  </thead>\n",
       "  <tbody>\n",
       "    <tr>\n",
       "      <th>228808</th>\n",
       "      <td>6193</td>\n",
       "      <td>702041064</td>\n",
       "      <td>Nhulunbuy</td>\n",
       "      <td>70204</td>\n",
       "      <td>East Arnhem</td>\n",
       "      <td>702</td>\n",
       "      <td>Northern Territory - Outback</td>\n",
       "      <td>7RNTE</td>\n",
       "      <td>Unemployment Rate</td>\n",
       "      <td>2010-12-01</td>\n",
       "      <td>0.1</td>\n",
       "      <td>4.287500</td>\n",
       "      <td>-4.187500</td>\n",
       "    </tr>\n",
       "    <tr>\n",
       "      <th>228809</th>\n",
       "      <td>6193</td>\n",
       "      <td>702041064</td>\n",
       "      <td>Nhulunbuy</td>\n",
       "      <td>70204</td>\n",
       "      <td>East Arnhem</td>\n",
       "      <td>702</td>\n",
       "      <td>Northern Territory - Outback</td>\n",
       "      <td>7RNTE</td>\n",
       "      <td>Unemployment Rate</td>\n",
       "      <td>2011-03-01</td>\n",
       "      <td>0.2</td>\n",
       "      <td>3.712500</td>\n",
       "      <td>-3.512500</td>\n",
       "    </tr>\n",
       "    <tr>\n",
       "      <th>228810</th>\n",
       "      <td>6193</td>\n",
       "      <td>702041064</td>\n",
       "      <td>Nhulunbuy</td>\n",
       "      <td>70204</td>\n",
       "      <td>East Arnhem</td>\n",
       "      <td>702</td>\n",
       "      <td>Northern Territory - Outback</td>\n",
       "      <td>7RNTE</td>\n",
       "      <td>Unemployment Rate</td>\n",
       "      <td>2011-06-01</td>\n",
       "      <td>0.2</td>\n",
       "      <td>4.441667</td>\n",
       "      <td>-4.241667</td>\n",
       "    </tr>\n",
       "    <tr>\n",
       "      <th>228811</th>\n",
       "      <td>6193</td>\n",
       "      <td>702041064</td>\n",
       "      <td>Nhulunbuy</td>\n",
       "      <td>70204</td>\n",
       "      <td>East Arnhem</td>\n",
       "      <td>702</td>\n",
       "      <td>Northern Territory - Outback</td>\n",
       "      <td>7RNTE</td>\n",
       "      <td>Unemployment Rate</td>\n",
       "      <td>2011-09-01</td>\n",
       "      <td>0.1</td>\n",
       "      <td>5.300000</td>\n",
       "      <td>-5.200000</td>\n",
       "    </tr>\n",
       "    <tr>\n",
       "      <th>228812</th>\n",
       "      <td>6193</td>\n",
       "      <td>702041064</td>\n",
       "      <td>Nhulunbuy</td>\n",
       "      <td>70204</td>\n",
       "      <td>East Arnhem</td>\n",
       "      <td>702</td>\n",
       "      <td>Northern Territory - Outback</td>\n",
       "      <td>7RNTE</td>\n",
       "      <td>Unemployment Rate</td>\n",
       "      <td>2011-12-01</td>\n",
       "      <td>0.1</td>\n",
       "      <td>6.600000</td>\n",
       "      <td>-6.500000</td>\n",
       "    </tr>\n",
       "    <tr>\n",
       "      <th>228813</th>\n",
       "      <td>6193</td>\n",
       "      <td>702041064</td>\n",
       "      <td>Nhulunbuy</td>\n",
       "      <td>70204</td>\n",
       "      <td>East Arnhem</td>\n",
       "      <td>702</td>\n",
       "      <td>Northern Territory - Outback</td>\n",
       "      <td>7RNTE</td>\n",
       "      <td>Unemployment Rate</td>\n",
       "      <td>2012-03-01</td>\n",
       "      <td>0.1</td>\n",
       "      <td>7.616667</td>\n",
       "      <td>-7.516667</td>\n",
       "    </tr>\n",
       "    <tr>\n",
       "      <th>228814</th>\n",
       "      <td>6193</td>\n",
       "      <td>702041064</td>\n",
       "      <td>Nhulunbuy</td>\n",
       "      <td>70204</td>\n",
       "      <td>East Arnhem</td>\n",
       "      <td>702</td>\n",
       "      <td>Northern Territory - Outback</td>\n",
       "      <td>7RNTE</td>\n",
       "      <td>Unemployment Rate</td>\n",
       "      <td>2012-06-01</td>\n",
       "      <td>0.2</td>\n",
       "      <td>8.175000</td>\n",
       "      <td>-7.975000</td>\n",
       "    </tr>\n",
       "    <tr>\n",
       "      <th>228815</th>\n",
       "      <td>6193</td>\n",
       "      <td>702041064</td>\n",
       "      <td>Nhulunbuy</td>\n",
       "      <td>70204</td>\n",
       "      <td>East Arnhem</td>\n",
       "      <td>702</td>\n",
       "      <td>Northern Territory - Outback</td>\n",
       "      <td>7RNTE</td>\n",
       "      <td>Unemployment Rate</td>\n",
       "      <td>2012-09-01</td>\n",
       "      <td>0.2</td>\n",
       "      <td>8.008333</td>\n",
       "      <td>-7.808333</td>\n",
       "    </tr>\n",
       "    <tr>\n",
       "      <th>228816</th>\n",
       "      <td>6193</td>\n",
       "      <td>702041064</td>\n",
       "      <td>Nhulunbuy</td>\n",
       "      <td>70204</td>\n",
       "      <td>East Arnhem</td>\n",
       "      <td>702</td>\n",
       "      <td>Northern Territory - Outback</td>\n",
       "      <td>7RNTE</td>\n",
       "      <td>Unemployment Rate</td>\n",
       "      <td>2012-12-01</td>\n",
       "      <td>0.2</td>\n",
       "      <td>7.529167</td>\n",
       "      <td>-7.329167</td>\n",
       "    </tr>\n",
       "    <tr>\n",
       "      <th>228817</th>\n",
       "      <td>6193</td>\n",
       "      <td>702041064</td>\n",
       "      <td>Nhulunbuy</td>\n",
       "      <td>70204</td>\n",
       "      <td>East Arnhem</td>\n",
       "      <td>702</td>\n",
       "      <td>Northern Territory - Outback</td>\n",
       "      <td>7RNTE</td>\n",
       "      <td>Unemployment Rate</td>\n",
       "      <td>2013-03-01</td>\n",
       "      <td>0.2</td>\n",
       "      <td>8.379167</td>\n",
       "      <td>-8.179167</td>\n",
       "    </tr>\n",
       "    <tr>\n",
       "      <th>228818</th>\n",
       "      <td>6193</td>\n",
       "      <td>702041064</td>\n",
       "      <td>Nhulunbuy</td>\n",
       "      <td>70204</td>\n",
       "      <td>East Arnhem</td>\n",
       "      <td>702</td>\n",
       "      <td>Northern Territory - Outback</td>\n",
       "      <td>7RNTE</td>\n",
       "      <td>Unemployment Rate</td>\n",
       "      <td>2013-06-01</td>\n",
       "      <td>0.3</td>\n",
       "      <td>9.833333</td>\n",
       "      <td>-9.533333</td>\n",
       "    </tr>\n",
       "    <tr>\n",
       "      <th>228819</th>\n",
       "      <td>6193</td>\n",
       "      <td>702041064</td>\n",
       "      <td>Nhulunbuy</td>\n",
       "      <td>70204</td>\n",
       "      <td>East Arnhem</td>\n",
       "      <td>702</td>\n",
       "      <td>Northern Territory - Outback</td>\n",
       "      <td>7RNTE</td>\n",
       "      <td>Unemployment Rate</td>\n",
       "      <td>2013-09-01</td>\n",
       "      <td>0.2</td>\n",
       "      <td>11.000000</td>\n",
       "      <td>-10.800000</td>\n",
       "    </tr>\n",
       "    <tr>\n",
       "      <th>228820</th>\n",
       "      <td>6193</td>\n",
       "      <td>702041064</td>\n",
       "      <td>Nhulunbuy</td>\n",
       "      <td>70204</td>\n",
       "      <td>East Arnhem</td>\n",
       "      <td>702</td>\n",
       "      <td>Northern Territory - Outback</td>\n",
       "      <td>7RNTE</td>\n",
       "      <td>Unemployment Rate</td>\n",
       "      <td>2013-12-01</td>\n",
       "      <td>0.3</td>\n",
       "      <td>11.433333</td>\n",
       "      <td>-11.133333</td>\n",
       "    </tr>\n",
       "    <tr>\n",
       "      <th>228821</th>\n",
       "      <td>6193</td>\n",
       "      <td>702041064</td>\n",
       "      <td>Nhulunbuy</td>\n",
       "      <td>70204</td>\n",
       "      <td>East Arnhem</td>\n",
       "      <td>702</td>\n",
       "      <td>Northern Territory - Outback</td>\n",
       "      <td>7RNTE</td>\n",
       "      <td>Unemployment Rate</td>\n",
       "      <td>2014-03-01</td>\n",
       "      <td>0.3</td>\n",
       "      <td>10.579167</td>\n",
       "      <td>-10.279167</td>\n",
       "    </tr>\n",
       "    <tr>\n",
       "      <th>228822</th>\n",
       "      <td>6193</td>\n",
       "      <td>702041064</td>\n",
       "      <td>Nhulunbuy</td>\n",
       "      <td>70204</td>\n",
       "      <td>East Arnhem</td>\n",
       "      <td>702</td>\n",
       "      <td>Northern Territory - Outback</td>\n",
       "      <td>7RNTE</td>\n",
       "      <td>Unemployment Rate</td>\n",
       "      <td>2014-06-01</td>\n",
       "      <td>0.2</td>\n",
       "      <td>8.991667</td>\n",
       "      <td>-8.791667</td>\n",
       "    </tr>\n",
       "    <tr>\n",
       "      <th>228823</th>\n",
       "      <td>6193</td>\n",
       "      <td>702041064</td>\n",
       "      <td>Nhulunbuy</td>\n",
       "      <td>70204</td>\n",
       "      <td>East Arnhem</td>\n",
       "      <td>702</td>\n",
       "      <td>Northern Territory - Outback</td>\n",
       "      <td>7RNTE</td>\n",
       "      <td>Unemployment Rate</td>\n",
       "      <td>2014-09-01</td>\n",
       "      <td>0.2</td>\n",
       "      <td>7.979167</td>\n",
       "      <td>-7.779167</td>\n",
       "    </tr>\n",
       "    <tr>\n",
       "      <th>228824</th>\n",
       "      <td>6193</td>\n",
       "      <td>702041064</td>\n",
       "      <td>Nhulunbuy</td>\n",
       "      <td>70204</td>\n",
       "      <td>East Arnhem</td>\n",
       "      <td>702</td>\n",
       "      <td>Northern Territory - Outback</td>\n",
       "      <td>7RNTE</td>\n",
       "      <td>Unemployment Rate</td>\n",
       "      <td>2014-12-01</td>\n",
       "      <td>0.2</td>\n",
       "      <td>7.404167</td>\n",
       "      <td>-7.204167</td>\n",
       "    </tr>\n",
       "    <tr>\n",
       "      <th>228825</th>\n",
       "      <td>6193</td>\n",
       "      <td>702041064</td>\n",
       "      <td>Nhulunbuy</td>\n",
       "      <td>70204</td>\n",
       "      <td>East Arnhem</td>\n",
       "      <td>702</td>\n",
       "      <td>Northern Territory - Outback</td>\n",
       "      <td>7RNTE</td>\n",
       "      <td>Unemployment Rate</td>\n",
       "      <td>2015-03-01</td>\n",
       "      <td>0.2</td>\n",
       "      <td>7.187500</td>\n",
       "      <td>-6.987500</td>\n",
       "    </tr>\n",
       "    <tr>\n",
       "      <th>228826</th>\n",
       "      <td>6193</td>\n",
       "      <td>702041064</td>\n",
       "      <td>Nhulunbuy</td>\n",
       "      <td>70204</td>\n",
       "      <td>East Arnhem</td>\n",
       "      <td>702</td>\n",
       "      <td>Northern Territory - Outback</td>\n",
       "      <td>7RNTE</td>\n",
       "      <td>Unemployment Rate</td>\n",
       "      <td>2015-06-01</td>\n",
       "      <td>0.3</td>\n",
       "      <td>7.366667</td>\n",
       "      <td>-7.066667</td>\n",
       "    </tr>\n",
       "    <tr>\n",
       "      <th>228827</th>\n",
       "      <td>6193</td>\n",
       "      <td>702041064</td>\n",
       "      <td>Nhulunbuy</td>\n",
       "      <td>70204</td>\n",
       "      <td>East Arnhem</td>\n",
       "      <td>702</td>\n",
       "      <td>Northern Territory - Outback</td>\n",
       "      <td>7RNTE</td>\n",
       "      <td>Unemployment Rate</td>\n",
       "      <td>2015-09-01</td>\n",
       "      <td>0.5</td>\n",
       "      <td>7.925000</td>\n",
       "      <td>-7.425000</td>\n",
       "    </tr>\n",
       "    <tr>\n",
       "      <th>228828</th>\n",
       "      <td>6193</td>\n",
       "      <td>702041064</td>\n",
       "      <td>Nhulunbuy</td>\n",
       "      <td>70204</td>\n",
       "      <td>East Arnhem</td>\n",
       "      <td>702</td>\n",
       "      <td>Northern Territory - Outback</td>\n",
       "      <td>7RNTE</td>\n",
       "      <td>Unemployment Rate</td>\n",
       "      <td>2015-12-01</td>\n",
       "      <td>0.6</td>\n",
       "      <td>7.958333</td>\n",
       "      <td>-7.358333</td>\n",
       "    </tr>\n",
       "    <tr>\n",
       "      <th>228829</th>\n",
       "      <td>6193</td>\n",
       "      <td>702041064</td>\n",
       "      <td>Nhulunbuy</td>\n",
       "      <td>70204</td>\n",
       "      <td>East Arnhem</td>\n",
       "      <td>702</td>\n",
       "      <td>Northern Territory - Outback</td>\n",
       "      <td>7RNTE</td>\n",
       "      <td>Unemployment Rate</td>\n",
       "      <td>2016-03-01</td>\n",
       "      <td>0.7</td>\n",
       "      <td>7.833333</td>\n",
       "      <td>-7.133333</td>\n",
       "    </tr>\n",
       "    <tr>\n",
       "      <th>228830</th>\n",
       "      <td>6193</td>\n",
       "      <td>702041064</td>\n",
       "      <td>Nhulunbuy</td>\n",
       "      <td>70204</td>\n",
       "      <td>East Arnhem</td>\n",
       "      <td>702</td>\n",
       "      <td>Northern Territory - Outback</td>\n",
       "      <td>7RNTE</td>\n",
       "      <td>Unemployment Rate</td>\n",
       "      <td>2016-06-01</td>\n",
       "      <td>0.7</td>\n",
       "      <td>7.262500</td>\n",
       "      <td>-6.562500</td>\n",
       "    </tr>\n",
       "    <tr>\n",
       "      <th>228831</th>\n",
       "      <td>6193</td>\n",
       "      <td>702041064</td>\n",
       "      <td>Nhulunbuy</td>\n",
       "      <td>70204</td>\n",
       "      <td>East Arnhem</td>\n",
       "      <td>702</td>\n",
       "      <td>Northern Territory - Outback</td>\n",
       "      <td>7RNTE</td>\n",
       "      <td>Unemployment Rate</td>\n",
       "      <td>2016-09-01</td>\n",
       "      <td>0.7</td>\n",
       "      <td>6.345833</td>\n",
       "      <td>-5.645833</td>\n",
       "    </tr>\n",
       "    <tr>\n",
       "      <th>228832</th>\n",
       "      <td>6193</td>\n",
       "      <td>702041064</td>\n",
       "      <td>Nhulunbuy</td>\n",
       "      <td>70204</td>\n",
       "      <td>East Arnhem</td>\n",
       "      <td>702</td>\n",
       "      <td>Northern Territory - Outback</td>\n",
       "      <td>7RNTE</td>\n",
       "      <td>Unemployment Rate</td>\n",
       "      <td>2016-12-01</td>\n",
       "      <td>0.7</td>\n",
       "      <td>5.887500</td>\n",
       "      <td>-5.187500</td>\n",
       "    </tr>\n",
       "    <tr>\n",
       "      <th>228833</th>\n",
       "      <td>6193</td>\n",
       "      <td>702041064</td>\n",
       "      <td>Nhulunbuy</td>\n",
       "      <td>70204</td>\n",
       "      <td>East Arnhem</td>\n",
       "      <td>702</td>\n",
       "      <td>Northern Territory - Outback</td>\n",
       "      <td>7RNTE</td>\n",
       "      <td>Unemployment Rate</td>\n",
       "      <td>2017-03-01</td>\n",
       "      <td>0.6</td>\n",
       "      <td>5.345833</td>\n",
       "      <td>-4.745833</td>\n",
       "    </tr>\n",
       "    <tr>\n",
       "      <th>228834</th>\n",
       "      <td>6193</td>\n",
       "      <td>702041064</td>\n",
       "      <td>Nhulunbuy</td>\n",
       "      <td>70204</td>\n",
       "      <td>East Arnhem</td>\n",
       "      <td>702</td>\n",
       "      <td>Northern Territory - Outback</td>\n",
       "      <td>7RNTE</td>\n",
       "      <td>Unemployment Rate</td>\n",
       "      <td>2017-06-01</td>\n",
       "      <td>0.5</td>\n",
       "      <td>5.012500</td>\n",
       "      <td>-4.512500</td>\n",
       "    </tr>\n",
       "    <tr>\n",
       "      <th>228835</th>\n",
       "      <td>6193</td>\n",
       "      <td>702041064</td>\n",
       "      <td>Nhulunbuy</td>\n",
       "      <td>70204</td>\n",
       "      <td>East Arnhem</td>\n",
       "      <td>702</td>\n",
       "      <td>Northern Territory - Outback</td>\n",
       "      <td>7RNTE</td>\n",
       "      <td>Unemployment Rate</td>\n",
       "      <td>2017-09-01</td>\n",
       "      <td>0.4</td>\n",
       "      <td>5.316667</td>\n",
       "      <td>-4.916667</td>\n",
       "    </tr>\n",
       "    <tr>\n",
       "      <th>228836</th>\n",
       "      <td>6193</td>\n",
       "      <td>702041064</td>\n",
       "      <td>Nhulunbuy</td>\n",
       "      <td>70204</td>\n",
       "      <td>East Arnhem</td>\n",
       "      <td>702</td>\n",
       "      <td>Northern Territory - Outback</td>\n",
       "      <td>7RNTE</td>\n",
       "      <td>Unemployment Rate</td>\n",
       "      <td>2017-12-01</td>\n",
       "      <td>0.6</td>\n",
       "      <td>6.083333</td>\n",
       "      <td>-5.483333</td>\n",
       "    </tr>\n",
       "    <tr>\n",
       "      <th>228837</th>\n",
       "      <td>6193</td>\n",
       "      <td>702041064</td>\n",
       "      <td>Nhulunbuy</td>\n",
       "      <td>70204</td>\n",
       "      <td>East Arnhem</td>\n",
       "      <td>702</td>\n",
       "      <td>Northern Territory - Outback</td>\n",
       "      <td>7RNTE</td>\n",
       "      <td>Unemployment Rate</td>\n",
       "      <td>2018-03-01</td>\n",
       "      <td>0.7</td>\n",
       "      <td>6.375000</td>\n",
       "      <td>-5.675000</td>\n",
       "    </tr>\n",
       "    <tr>\n",
       "      <th>228838</th>\n",
       "      <td>6193</td>\n",
       "      <td>702041064</td>\n",
       "      <td>Nhulunbuy</td>\n",
       "      <td>70204</td>\n",
       "      <td>East Arnhem</td>\n",
       "      <td>702</td>\n",
       "      <td>Northern Territory - Outback</td>\n",
       "      <td>7RNTE</td>\n",
       "      <td>Unemployment Rate</td>\n",
       "      <td>2018-06-01</td>\n",
       "      <td>1.0</td>\n",
       "      <td>6.783333</td>\n",
       "      <td>-5.783333</td>\n",
       "    </tr>\n",
       "    <tr>\n",
       "      <th>228839</th>\n",
       "      <td>6193</td>\n",
       "      <td>702041064</td>\n",
       "      <td>Nhulunbuy</td>\n",
       "      <td>70204</td>\n",
       "      <td>East Arnhem</td>\n",
       "      <td>702</td>\n",
       "      <td>Northern Territory - Outback</td>\n",
       "      <td>7RNTE</td>\n",
       "      <td>Unemployment Rate</td>\n",
       "      <td>2018-09-01</td>\n",
       "      <td>1.2</td>\n",
       "      <td>6.400000</td>\n",
       "      <td>-5.200000</td>\n",
       "    </tr>\n",
       "    <tr>\n",
       "      <th>228840</th>\n",
       "      <td>6193</td>\n",
       "      <td>702041064</td>\n",
       "      <td>Nhulunbuy</td>\n",
       "      <td>70204</td>\n",
       "      <td>East Arnhem</td>\n",
       "      <td>702</td>\n",
       "      <td>Northern Territory - Outback</td>\n",
       "      <td>7RNTE</td>\n",
       "      <td>Unemployment Rate</td>\n",
       "      <td>2018-12-01</td>\n",
       "      <td>1.4</td>\n",
       "      <td>6.441667</td>\n",
       "      <td>-5.041667</td>\n",
       "    </tr>\n",
       "    <tr>\n",
       "      <th>228841</th>\n",
       "      <td>6193</td>\n",
       "      <td>702041064</td>\n",
       "      <td>Nhulunbuy</td>\n",
       "      <td>70204</td>\n",
       "      <td>East Arnhem</td>\n",
       "      <td>702</td>\n",
       "      <td>Northern Territory - Outback</td>\n",
       "      <td>7RNTE</td>\n",
       "      <td>Unemployment Rate</td>\n",
       "      <td>2019-03-01</td>\n",
       "      <td>1.5</td>\n",
       "      <td>6.350000</td>\n",
       "      <td>-4.850000</td>\n",
       "    </tr>\n",
       "    <tr>\n",
       "      <th>228842</th>\n",
       "      <td>6193</td>\n",
       "      <td>702041064</td>\n",
       "      <td>Nhulunbuy</td>\n",
       "      <td>70204</td>\n",
       "      <td>East Arnhem</td>\n",
       "      <td>702</td>\n",
       "      <td>Northern Territory - Outback</td>\n",
       "      <td>7RNTE</td>\n",
       "      <td>Unemployment Rate</td>\n",
       "      <td>2019-06-01</td>\n",
       "      <td>1.4</td>\n",
       "      <td>6.466667</td>\n",
       "      <td>-5.066667</td>\n",
       "    </tr>\n",
       "    <tr>\n",
       "      <th>228843</th>\n",
       "      <td>6193</td>\n",
       "      <td>702041064</td>\n",
       "      <td>Nhulunbuy</td>\n",
       "      <td>70204</td>\n",
       "      <td>East Arnhem</td>\n",
       "      <td>702</td>\n",
       "      <td>Northern Territory - Outback</td>\n",
       "      <td>7RNTE</td>\n",
       "      <td>Unemployment Rate</td>\n",
       "      <td>2019-09-01</td>\n",
       "      <td>1.6</td>\n",
       "      <td>7.341667</td>\n",
       "      <td>-5.741667</td>\n",
       "    </tr>\n",
       "    <tr>\n",
       "      <th>228844</th>\n",
       "      <td>6193</td>\n",
       "      <td>702041064</td>\n",
       "      <td>Nhulunbuy</td>\n",
       "      <td>70204</td>\n",
       "      <td>East Arnhem</td>\n",
       "      <td>702</td>\n",
       "      <td>Northern Territory - Outback</td>\n",
       "      <td>7RNTE</td>\n",
       "      <td>Unemployment Rate</td>\n",
       "      <td>2019-12-01</td>\n",
       "      <td>1.7</td>\n",
       "      <td>7.529167</td>\n",
       "      <td>-5.829167</td>\n",
       "    </tr>\n",
       "  </tbody>\n",
       "</table>\n",
       "</div>"
      ],
      "text/plain": [
       "          ID  SA2_MAINCODE_2016 SA2_NAME_2016  SA3_CODE_2016 SA3_NAME_2016  \\\n",
       "228808  6193          702041064     Nhulunbuy          70204   East Arnhem   \n",
       "228809  6193          702041064     Nhulunbuy          70204   East Arnhem   \n",
       "228810  6193          702041064     Nhulunbuy          70204   East Arnhem   \n",
       "228811  6193          702041064     Nhulunbuy          70204   East Arnhem   \n",
       "228812  6193          702041064     Nhulunbuy          70204   East Arnhem   \n",
       "228813  6193          702041064     Nhulunbuy          70204   East Arnhem   \n",
       "228814  6193          702041064     Nhulunbuy          70204   East Arnhem   \n",
       "228815  6193          702041064     Nhulunbuy          70204   East Arnhem   \n",
       "228816  6193          702041064     Nhulunbuy          70204   East Arnhem   \n",
       "228817  6193          702041064     Nhulunbuy          70204   East Arnhem   \n",
       "228818  6193          702041064     Nhulunbuy          70204   East Arnhem   \n",
       "228819  6193          702041064     Nhulunbuy          70204   East Arnhem   \n",
       "228820  6193          702041064     Nhulunbuy          70204   East Arnhem   \n",
       "228821  6193          702041064     Nhulunbuy          70204   East Arnhem   \n",
       "228822  6193          702041064     Nhulunbuy          70204   East Arnhem   \n",
       "228823  6193          702041064     Nhulunbuy          70204   East Arnhem   \n",
       "228824  6193          702041064     Nhulunbuy          70204   East Arnhem   \n",
       "228825  6193          702041064     Nhulunbuy          70204   East Arnhem   \n",
       "228826  6193          702041064     Nhulunbuy          70204   East Arnhem   \n",
       "228827  6193          702041064     Nhulunbuy          70204   East Arnhem   \n",
       "228828  6193          702041064     Nhulunbuy          70204   East Arnhem   \n",
       "228829  6193          702041064     Nhulunbuy          70204   East Arnhem   \n",
       "228830  6193          702041064     Nhulunbuy          70204   East Arnhem   \n",
       "228831  6193          702041064     Nhulunbuy          70204   East Arnhem   \n",
       "228832  6193          702041064     Nhulunbuy          70204   East Arnhem   \n",
       "228833  6193          702041064     Nhulunbuy          70204   East Arnhem   \n",
       "228834  6193          702041064     Nhulunbuy          70204   East Arnhem   \n",
       "228835  6193          702041064     Nhulunbuy          70204   East Arnhem   \n",
       "228836  6193          702041064     Nhulunbuy          70204   East Arnhem   \n",
       "228837  6193          702041064     Nhulunbuy          70204   East Arnhem   \n",
       "228838  6193          702041064     Nhulunbuy          70204   East Arnhem   \n",
       "228839  6193          702041064     Nhulunbuy          70204   East Arnhem   \n",
       "228840  6193          702041064     Nhulunbuy          70204   East Arnhem   \n",
       "228841  6193          702041064     Nhulunbuy          70204   East Arnhem   \n",
       "228842  6193          702041064     Nhulunbuy          70204   East Arnhem   \n",
       "228843  6193          702041064     Nhulunbuy          70204   East Arnhem   \n",
       "228844  6193          702041064     Nhulunbuy          70204   East Arnhem   \n",
       "\n",
       "        SA4_CODE_2016                 SA4_NAME_2016 GCCSA_CODE_2016  \\\n",
       "228808            702  Northern Territory - Outback           7RNTE   \n",
       "228809            702  Northern Territory - Outback           7RNTE   \n",
       "228810            702  Northern Territory - Outback           7RNTE   \n",
       "228811            702  Northern Territory - Outback           7RNTE   \n",
       "228812            702  Northern Territory - Outback           7RNTE   \n",
       "228813            702  Northern Territory - Outback           7RNTE   \n",
       "228814            702  Northern Territory - Outback           7RNTE   \n",
       "228815            702  Northern Territory - Outback           7RNTE   \n",
       "228816            702  Northern Territory - Outback           7RNTE   \n",
       "228817            702  Northern Territory - Outback           7RNTE   \n",
       "228818            702  Northern Territory - Outback           7RNTE   \n",
       "228819            702  Northern Territory - Outback           7RNTE   \n",
       "228820            702  Northern Territory - Outback           7RNTE   \n",
       "228821            702  Northern Territory - Outback           7RNTE   \n",
       "228822            702  Northern Territory - Outback           7RNTE   \n",
       "228823            702  Northern Territory - Outback           7RNTE   \n",
       "228824            702  Northern Territory - Outback           7RNTE   \n",
       "228825            702  Northern Territory - Outback           7RNTE   \n",
       "228826            702  Northern Territory - Outback           7RNTE   \n",
       "228827            702  Northern Territory - Outback           7RNTE   \n",
       "228828            702  Northern Territory - Outback           7RNTE   \n",
       "228829            702  Northern Territory - Outback           7RNTE   \n",
       "228830            702  Northern Territory - Outback           7RNTE   \n",
       "228831            702  Northern Territory - Outback           7RNTE   \n",
       "228832            702  Northern Territory - Outback           7RNTE   \n",
       "228833            702  Northern Territory - Outback           7RNTE   \n",
       "228834            702  Northern Territory - Outback           7RNTE   \n",
       "228835            702  Northern Territory - Outback           7RNTE   \n",
       "228836            702  Northern Territory - Outback           7RNTE   \n",
       "228837            702  Northern Territory - Outback           7RNTE   \n",
       "228838            702  Northern Territory - Outback           7RNTE   \n",
       "228839            702  Northern Territory - Outback           7RNTE   \n",
       "228840            702  Northern Territory - Outback           7RNTE   \n",
       "228841            702  Northern Territory - Outback           7RNTE   \n",
       "228842            702  Northern Territory - Outback           7RNTE   \n",
       "228843            702  Northern Territory - Outback           7RNTE   \n",
       "228844            702  Northern Territory - Outback           7RNTE   \n",
       "\n",
       "       Labour Force Category    Quarter  Level  SA4 Average  Difference  \n",
       "228808     Unemployment Rate 2010-12-01    0.1     4.287500   -4.187500  \n",
       "228809     Unemployment Rate 2011-03-01    0.2     3.712500   -3.512500  \n",
       "228810     Unemployment Rate 2011-06-01    0.2     4.441667   -4.241667  \n",
       "228811     Unemployment Rate 2011-09-01    0.1     5.300000   -5.200000  \n",
       "228812     Unemployment Rate 2011-12-01    0.1     6.600000   -6.500000  \n",
       "228813     Unemployment Rate 2012-03-01    0.1     7.616667   -7.516667  \n",
       "228814     Unemployment Rate 2012-06-01    0.2     8.175000   -7.975000  \n",
       "228815     Unemployment Rate 2012-09-01    0.2     8.008333   -7.808333  \n",
       "228816     Unemployment Rate 2012-12-01    0.2     7.529167   -7.329167  \n",
       "228817     Unemployment Rate 2013-03-01    0.2     8.379167   -8.179167  \n",
       "228818     Unemployment Rate 2013-06-01    0.3     9.833333   -9.533333  \n",
       "228819     Unemployment Rate 2013-09-01    0.2    11.000000  -10.800000  \n",
       "228820     Unemployment Rate 2013-12-01    0.3    11.433333  -11.133333  \n",
       "228821     Unemployment Rate 2014-03-01    0.3    10.579167  -10.279167  \n",
       "228822     Unemployment Rate 2014-06-01    0.2     8.991667   -8.791667  \n",
       "228823     Unemployment Rate 2014-09-01    0.2     7.979167   -7.779167  \n",
       "228824     Unemployment Rate 2014-12-01    0.2     7.404167   -7.204167  \n",
       "228825     Unemployment Rate 2015-03-01    0.2     7.187500   -6.987500  \n",
       "228826     Unemployment Rate 2015-06-01    0.3     7.366667   -7.066667  \n",
       "228827     Unemployment Rate 2015-09-01    0.5     7.925000   -7.425000  \n",
       "228828     Unemployment Rate 2015-12-01    0.6     7.958333   -7.358333  \n",
       "228829     Unemployment Rate 2016-03-01    0.7     7.833333   -7.133333  \n",
       "228830     Unemployment Rate 2016-06-01    0.7     7.262500   -6.562500  \n",
       "228831     Unemployment Rate 2016-09-01    0.7     6.345833   -5.645833  \n",
       "228832     Unemployment Rate 2016-12-01    0.7     5.887500   -5.187500  \n",
       "228833     Unemployment Rate 2017-03-01    0.6     5.345833   -4.745833  \n",
       "228834     Unemployment Rate 2017-06-01    0.5     5.012500   -4.512500  \n",
       "228835     Unemployment Rate 2017-09-01    0.4     5.316667   -4.916667  \n",
       "228836     Unemployment Rate 2017-12-01    0.6     6.083333   -5.483333  \n",
       "228837     Unemployment Rate 2018-03-01    0.7     6.375000   -5.675000  \n",
       "228838     Unemployment Rate 2018-06-01    1.0     6.783333   -5.783333  \n",
       "228839     Unemployment Rate 2018-09-01    1.2     6.400000   -5.200000  \n",
       "228840     Unemployment Rate 2018-12-01    1.4     6.441667   -5.041667  \n",
       "228841     Unemployment Rate 2019-03-01    1.5     6.350000   -4.850000  \n",
       "228842     Unemployment Rate 2019-06-01    1.4     6.466667   -5.066667  \n",
       "228843     Unemployment Rate 2019-09-01    1.6     7.341667   -5.741667  \n",
       "228844     Unemployment Rate 2019-12-01    1.7     7.529167   -5.829167  "
      ]
     },
     "execution_count": 7,
     "metadata": {},
     "output_type": "execute_result"
    }
   ],
   "source": [
    "salm_benched[(salm_benched['SA2_NAME_2016'] == 'Nhulunbuy') \n",
    "             & (salm_benched['Labour Force Category'] == 'Unemployment Rate')]"
   ]
  },
  {
   "cell_type": "code",
   "execution_count": 8,
   "metadata": {},
   "outputs": [],
   "source": [
    "def check_suburb(suburb,category,asgs):\n",
    "    associated_asgs = salm[(salm['SA2_NAME_2016'] == suburb)].drop(['SA3_CODE_2016','SA4_CODE_2016','Labour Force Category','Quarter','ID', 'SA2_MAINCODE_2016', 'Level'], axis=1).drop_duplicates()\n",
    "    \n",
    "    #inject the asgs\n",
    "    asgs_name = associated_asgs[asgs].to_list()\n",
    "    asgs_name = asgs_name[0]\n",
    "    asgs_df = salm[(salm['Labour Force Category'] == category) & (salm[asgs] == asgs_name)]\n",
    "\n",
    "    #averaging selection geography\n",
    "    asgs_average = asgs_df.groupby(['Quarter',asgs]).mean()\n",
    "\n",
    "    #removing unecesssary columns and cleaning\n",
    "    asgs_consolidated = asgs_average.iloc[:,-1]\n",
    "    asgs_consolidated = pd.DataFrame(asgs_consolidated)\n",
    "    asgs_consolidated = asgs_consolidated.reset_index()\n",
    "    asgs_consolidated = asgs_consolidated.set_index('Quarter')\n",
    "    asgs_col_drop = [0]\n",
    "    asgs_consolidated = asgs_consolidated.drop(asgs_consolidated.columns[asgs_col_drop], axis = 1)\n",
    "    asgs_consolidated = asgs_consolidated.rename(columns={'Level':asgs_name})\n",
    "\n",
    "    #grabbing suburb name\n",
    "    suburb_name = salm_ts[(salm_ts['Labour Force Category'] == category) & (salm_ts['SA2_NAME_2016'] == suburb)]\n",
    "    final_suburb_name = suburb_name[['Level']]\n",
    "    final_suburb_name = final_suburb_name.rename(columns={'Level':suburb})\n",
    "\n",
    "    #joining suburb and target asgs\n",
    "    output_df = pd.merge(final_suburb_name, asgs_consolidated, on='Quarter')\n",
    "    output_df = output_df.reset_index()\n",
    "    \n",
    "    #plotting\n",
    "    plot_suburb = go.Scatter(\n",
    "                    x=output_df.Quarter,\n",
    "                    y=output_df.iloc[:,1],\n",
    "                    name=suburb)\n",
    "\n",
    "    plot_asgs = go.Scatter(\n",
    "                    x=output_df.Quarter,\n",
    "                    y=output_df.iloc[:,2],\n",
    "                    name=asgs_name)\n",
    "\n",
    "    data = [plot_suburb,plot_asgs]\n",
    "\n",
    "    graph = iplot(data)\n",
    "    return graph"
   ]
  },
  {
   "cell_type": "code",
   "execution_count": 12,
   "metadata": {},
   "outputs": [
    {
     "data": {
      "application/vnd.plotly.v1+json": {
       "config": {
        "linkText": "Export to plot.ly",
        "plotlyServerURL": "https://plot.ly",
        "showLink": false
       },
       "data": [
        {
         "name": "Emerald",
         "type": "scatter",
         "x": [
          "2010-12-01T00:00:00",
          "2011-03-01T00:00:00",
          "2011-06-01T00:00:00",
          "2011-09-01T00:00:00",
          "2011-12-01T00:00:00",
          "2012-03-01T00:00:00",
          "2012-06-01T00:00:00",
          "2012-09-01T00:00:00",
          "2012-12-01T00:00:00",
          "2013-03-01T00:00:00",
          "2013-06-01T00:00:00",
          "2013-09-01T00:00:00",
          "2013-12-01T00:00:00",
          "2014-03-01T00:00:00",
          "2014-06-01T00:00:00",
          "2014-09-01T00:00:00",
          "2014-12-01T00:00:00",
          "2015-03-01T00:00:00",
          "2015-06-01T00:00:00",
          "2015-09-01T00:00:00",
          "2015-12-01T00:00:00",
          "2016-03-01T00:00:00",
          "2016-06-01T00:00:00",
          "2016-09-01T00:00:00",
          "2016-12-01T00:00:00",
          "2017-03-01T00:00:00",
          "2017-06-01T00:00:00",
          "2017-09-01T00:00:00",
          "2017-12-01T00:00:00",
          "2018-03-01T00:00:00",
          "2018-06-01T00:00:00",
          "2018-09-01T00:00:00",
          "2018-12-01T00:00:00",
          "2019-03-01T00:00:00",
          "2019-06-01T00:00:00",
          "2019-09-01T00:00:00",
          "2019-12-01T00:00:00"
         ],
         "y": [
          2.5,
          2.7,
          2.6,
          2.4,
          2.3,
          2,
          1.9,
          1.8,
          2,
          2.2,
          2.7,
          3,
          3,
          2.9,
          2.6,
          2.5,
          2.7,
          3.2,
          3.7,
          4.6,
          4.5,
          4.1,
          3.9,
          3.2,
          3.1,
          3.3,
          3.6,
          3.6,
          3.8,
          3.7,
          3.5,
          3.4,
          3.2,
          3,
          2.7,
          3,
          3.2
         ]
        },
        {
         "name": "Central Queensland",
         "type": "scatter",
         "x": [
          "2010-12-01T00:00:00",
          "2011-03-01T00:00:00",
          "2011-06-01T00:00:00",
          "2011-09-01T00:00:00",
          "2011-12-01T00:00:00",
          "2012-03-01T00:00:00",
          "2012-06-01T00:00:00",
          "2012-09-01T00:00:00",
          "2012-12-01T00:00:00",
          "2013-03-01T00:00:00",
          "2013-06-01T00:00:00",
          "2013-09-01T00:00:00",
          "2013-12-01T00:00:00",
          "2014-03-01T00:00:00",
          "2014-06-01T00:00:00",
          "2014-09-01T00:00:00",
          "2014-12-01T00:00:00",
          "2015-03-01T00:00:00",
          "2015-06-01T00:00:00",
          "2015-09-01T00:00:00",
          "2015-12-01T00:00:00",
          "2016-03-01T00:00:00",
          "2016-06-01T00:00:00",
          "2016-09-01T00:00:00",
          "2016-12-01T00:00:00",
          "2017-03-01T00:00:00",
          "2017-06-01T00:00:00",
          "2017-09-01T00:00:00",
          "2017-12-01T00:00:00",
          "2018-03-01T00:00:00",
          "2018-06-01T00:00:00",
          "2018-09-01T00:00:00",
          "2018-12-01T00:00:00",
          "2019-03-01T00:00:00",
          "2019-06-01T00:00:00",
          "2019-09-01T00:00:00",
          "2019-12-01T00:00:00"
         ],
         "y": [
          6.838709677419356,
          6.951612903225806,
          6.9709677419354845,
          6.86774193548387,
          6.5612903225806445,
          6.258064516129032,
          5.725806451612904,
          5.629032258064514,
          5.983870967741935,
          6.487096774193549,
          7.5677419354838715,
          8.13225806451613,
          7.948387096774194,
          7.351612903225806,
          6.419354838709676,
          5.729032258064516,
          5.8419354838709685,
          6.380645161290323,
          7.164516129032259,
          8.638709677419357,
          8.38709677419355,
          7.690322580645161,
          7.554838709677418,
          6.738709677419355,
          6.8354838709677415,
          7.506451612903225,
          7.916129032258065,
          7.812903225806453,
          7.94516129032258,
          7.748387096774194,
          7.635483870967741,
          7.60967741935484,
          7.467741935483871,
          7.045161290322579,
          6.39032258064516,
          7.490322580645161,
          7.961290322580645
         ]
        }
       ],
       "layout": {
        "template": {
         "data": {
          "bar": [
           {
            "error_x": {
             "color": "#2a3f5f"
            },
            "error_y": {
             "color": "#2a3f5f"
            },
            "marker": {
             "line": {
              "color": "#E5ECF6",
              "width": 0.5
             }
            },
            "type": "bar"
           }
          ],
          "barpolar": [
           {
            "marker": {
             "line": {
              "color": "#E5ECF6",
              "width": 0.5
             }
            },
            "type": "barpolar"
           }
          ],
          "carpet": [
           {
            "aaxis": {
             "endlinecolor": "#2a3f5f",
             "gridcolor": "white",
             "linecolor": "white",
             "minorgridcolor": "white",
             "startlinecolor": "#2a3f5f"
            },
            "baxis": {
             "endlinecolor": "#2a3f5f",
             "gridcolor": "white",
             "linecolor": "white",
             "minorgridcolor": "white",
             "startlinecolor": "#2a3f5f"
            },
            "type": "carpet"
           }
          ],
          "choropleth": [
           {
            "colorbar": {
             "outlinewidth": 0,
             "ticks": ""
            },
            "type": "choropleth"
           }
          ],
          "contour": [
           {
            "colorbar": {
             "outlinewidth": 0,
             "ticks": ""
            },
            "colorscale": [
             [
              0,
              "#0d0887"
             ],
             [
              0.1111111111111111,
              "#46039f"
             ],
             [
              0.2222222222222222,
              "#7201a8"
             ],
             [
              0.3333333333333333,
              "#9c179e"
             ],
             [
              0.4444444444444444,
              "#bd3786"
             ],
             [
              0.5555555555555556,
              "#d8576b"
             ],
             [
              0.6666666666666666,
              "#ed7953"
             ],
             [
              0.7777777777777778,
              "#fb9f3a"
             ],
             [
              0.8888888888888888,
              "#fdca26"
             ],
             [
              1,
              "#f0f921"
             ]
            ],
            "type": "contour"
           }
          ],
          "contourcarpet": [
           {
            "colorbar": {
             "outlinewidth": 0,
             "ticks": ""
            },
            "type": "contourcarpet"
           }
          ],
          "heatmap": [
           {
            "colorbar": {
             "outlinewidth": 0,
             "ticks": ""
            },
            "colorscale": [
             [
              0,
              "#0d0887"
             ],
             [
              0.1111111111111111,
              "#46039f"
             ],
             [
              0.2222222222222222,
              "#7201a8"
             ],
             [
              0.3333333333333333,
              "#9c179e"
             ],
             [
              0.4444444444444444,
              "#bd3786"
             ],
             [
              0.5555555555555556,
              "#d8576b"
             ],
             [
              0.6666666666666666,
              "#ed7953"
             ],
             [
              0.7777777777777778,
              "#fb9f3a"
             ],
             [
              0.8888888888888888,
              "#fdca26"
             ],
             [
              1,
              "#f0f921"
             ]
            ],
            "type": "heatmap"
           }
          ],
          "heatmapgl": [
           {
            "colorbar": {
             "outlinewidth": 0,
             "ticks": ""
            },
            "colorscale": [
             [
              0,
              "#0d0887"
             ],
             [
              0.1111111111111111,
              "#46039f"
             ],
             [
              0.2222222222222222,
              "#7201a8"
             ],
             [
              0.3333333333333333,
              "#9c179e"
             ],
             [
              0.4444444444444444,
              "#bd3786"
             ],
             [
              0.5555555555555556,
              "#d8576b"
             ],
             [
              0.6666666666666666,
              "#ed7953"
             ],
             [
              0.7777777777777778,
              "#fb9f3a"
             ],
             [
              0.8888888888888888,
              "#fdca26"
             ],
             [
              1,
              "#f0f921"
             ]
            ],
            "type": "heatmapgl"
           }
          ],
          "histogram": [
           {
            "marker": {
             "colorbar": {
              "outlinewidth": 0,
              "ticks": ""
             }
            },
            "type": "histogram"
           }
          ],
          "histogram2d": [
           {
            "colorbar": {
             "outlinewidth": 0,
             "ticks": ""
            },
            "colorscale": [
             [
              0,
              "#0d0887"
             ],
             [
              0.1111111111111111,
              "#46039f"
             ],
             [
              0.2222222222222222,
              "#7201a8"
             ],
             [
              0.3333333333333333,
              "#9c179e"
             ],
             [
              0.4444444444444444,
              "#bd3786"
             ],
             [
              0.5555555555555556,
              "#d8576b"
             ],
             [
              0.6666666666666666,
              "#ed7953"
             ],
             [
              0.7777777777777778,
              "#fb9f3a"
             ],
             [
              0.8888888888888888,
              "#fdca26"
             ],
             [
              1,
              "#f0f921"
             ]
            ],
            "type": "histogram2d"
           }
          ],
          "histogram2dcontour": [
           {
            "colorbar": {
             "outlinewidth": 0,
             "ticks": ""
            },
            "colorscale": [
             [
              0,
              "#0d0887"
             ],
             [
              0.1111111111111111,
              "#46039f"
             ],
             [
              0.2222222222222222,
              "#7201a8"
             ],
             [
              0.3333333333333333,
              "#9c179e"
             ],
             [
              0.4444444444444444,
              "#bd3786"
             ],
             [
              0.5555555555555556,
              "#d8576b"
             ],
             [
              0.6666666666666666,
              "#ed7953"
             ],
             [
              0.7777777777777778,
              "#fb9f3a"
             ],
             [
              0.8888888888888888,
              "#fdca26"
             ],
             [
              1,
              "#f0f921"
             ]
            ],
            "type": "histogram2dcontour"
           }
          ],
          "mesh3d": [
           {
            "colorbar": {
             "outlinewidth": 0,
             "ticks": ""
            },
            "type": "mesh3d"
           }
          ],
          "parcoords": [
           {
            "line": {
             "colorbar": {
              "outlinewidth": 0,
              "ticks": ""
             }
            },
            "type": "parcoords"
           }
          ],
          "pie": [
           {
            "automargin": true,
            "type": "pie"
           }
          ],
          "scatter": [
           {
            "marker": {
             "colorbar": {
              "outlinewidth": 0,
              "ticks": ""
             }
            },
            "type": "scatter"
           }
          ],
          "scatter3d": [
           {
            "line": {
             "colorbar": {
              "outlinewidth": 0,
              "ticks": ""
             }
            },
            "marker": {
             "colorbar": {
              "outlinewidth": 0,
              "ticks": ""
             }
            },
            "type": "scatter3d"
           }
          ],
          "scattercarpet": [
           {
            "marker": {
             "colorbar": {
              "outlinewidth": 0,
              "ticks": ""
             }
            },
            "type": "scattercarpet"
           }
          ],
          "scattergeo": [
           {
            "marker": {
             "colorbar": {
              "outlinewidth": 0,
              "ticks": ""
             }
            },
            "type": "scattergeo"
           }
          ],
          "scattergl": [
           {
            "marker": {
             "colorbar": {
              "outlinewidth": 0,
              "ticks": ""
             }
            },
            "type": "scattergl"
           }
          ],
          "scattermapbox": [
           {
            "marker": {
             "colorbar": {
              "outlinewidth": 0,
              "ticks": ""
             }
            },
            "type": "scattermapbox"
           }
          ],
          "scatterpolar": [
           {
            "marker": {
             "colorbar": {
              "outlinewidth": 0,
              "ticks": ""
             }
            },
            "type": "scatterpolar"
           }
          ],
          "scatterpolargl": [
           {
            "marker": {
             "colorbar": {
              "outlinewidth": 0,
              "ticks": ""
             }
            },
            "type": "scatterpolargl"
           }
          ],
          "scatterternary": [
           {
            "marker": {
             "colorbar": {
              "outlinewidth": 0,
              "ticks": ""
             }
            },
            "type": "scatterternary"
           }
          ],
          "surface": [
           {
            "colorbar": {
             "outlinewidth": 0,
             "ticks": ""
            },
            "colorscale": [
             [
              0,
              "#0d0887"
             ],
             [
              0.1111111111111111,
              "#46039f"
             ],
             [
              0.2222222222222222,
              "#7201a8"
             ],
             [
              0.3333333333333333,
              "#9c179e"
             ],
             [
              0.4444444444444444,
              "#bd3786"
             ],
             [
              0.5555555555555556,
              "#d8576b"
             ],
             [
              0.6666666666666666,
              "#ed7953"
             ],
             [
              0.7777777777777778,
              "#fb9f3a"
             ],
             [
              0.8888888888888888,
              "#fdca26"
             ],
             [
              1,
              "#f0f921"
             ]
            ],
            "type": "surface"
           }
          ],
          "table": [
           {
            "cells": {
             "fill": {
              "color": "#EBF0F8"
             },
             "line": {
              "color": "white"
             }
            },
            "header": {
             "fill": {
              "color": "#C8D4E3"
             },
             "line": {
              "color": "white"
             }
            },
            "type": "table"
           }
          ]
         },
         "layout": {
          "annotationdefaults": {
           "arrowcolor": "#2a3f5f",
           "arrowhead": 0,
           "arrowwidth": 1
          },
          "coloraxis": {
           "colorbar": {
            "outlinewidth": 0,
            "ticks": ""
           }
          },
          "colorscale": {
           "diverging": [
            [
             0,
             "#8e0152"
            ],
            [
             0.1,
             "#c51b7d"
            ],
            [
             0.2,
             "#de77ae"
            ],
            [
             0.3,
             "#f1b6da"
            ],
            [
             0.4,
             "#fde0ef"
            ],
            [
             0.5,
             "#f7f7f7"
            ],
            [
             0.6,
             "#e6f5d0"
            ],
            [
             0.7,
             "#b8e186"
            ],
            [
             0.8,
             "#7fbc41"
            ],
            [
             0.9,
             "#4d9221"
            ],
            [
             1,
             "#276419"
            ]
           ],
           "sequential": [
            [
             0,
             "#0d0887"
            ],
            [
             0.1111111111111111,
             "#46039f"
            ],
            [
             0.2222222222222222,
             "#7201a8"
            ],
            [
             0.3333333333333333,
             "#9c179e"
            ],
            [
             0.4444444444444444,
             "#bd3786"
            ],
            [
             0.5555555555555556,
             "#d8576b"
            ],
            [
             0.6666666666666666,
             "#ed7953"
            ],
            [
             0.7777777777777778,
             "#fb9f3a"
            ],
            [
             0.8888888888888888,
             "#fdca26"
            ],
            [
             1,
             "#f0f921"
            ]
           ],
           "sequentialminus": [
            [
             0,
             "#0d0887"
            ],
            [
             0.1111111111111111,
             "#46039f"
            ],
            [
             0.2222222222222222,
             "#7201a8"
            ],
            [
             0.3333333333333333,
             "#9c179e"
            ],
            [
             0.4444444444444444,
             "#bd3786"
            ],
            [
             0.5555555555555556,
             "#d8576b"
            ],
            [
             0.6666666666666666,
             "#ed7953"
            ],
            [
             0.7777777777777778,
             "#fb9f3a"
            ],
            [
             0.8888888888888888,
             "#fdca26"
            ],
            [
             1,
             "#f0f921"
            ]
           ]
          },
          "colorway": [
           "#636efa",
           "#EF553B",
           "#00cc96",
           "#ab63fa",
           "#FFA15A",
           "#19d3f3",
           "#FF6692",
           "#B6E880",
           "#FF97FF",
           "#FECB52"
          ],
          "font": {
           "color": "#2a3f5f"
          },
          "geo": {
           "bgcolor": "white",
           "lakecolor": "white",
           "landcolor": "#E5ECF6",
           "showlakes": true,
           "showland": true,
           "subunitcolor": "white"
          },
          "hoverlabel": {
           "align": "left"
          },
          "hovermode": "closest",
          "mapbox": {
           "style": "light"
          },
          "paper_bgcolor": "white",
          "plot_bgcolor": "#E5ECF6",
          "polar": {
           "angularaxis": {
            "gridcolor": "white",
            "linecolor": "white",
            "ticks": ""
           },
           "bgcolor": "#E5ECF6",
           "radialaxis": {
            "gridcolor": "white",
            "linecolor": "white",
            "ticks": ""
           }
          },
          "scene": {
           "xaxis": {
            "backgroundcolor": "#E5ECF6",
            "gridcolor": "white",
            "gridwidth": 2,
            "linecolor": "white",
            "showbackground": true,
            "ticks": "",
            "zerolinecolor": "white"
           },
           "yaxis": {
            "backgroundcolor": "#E5ECF6",
            "gridcolor": "white",
            "gridwidth": 2,
            "linecolor": "white",
            "showbackground": true,
            "ticks": "",
            "zerolinecolor": "white"
           },
           "zaxis": {
            "backgroundcolor": "#E5ECF6",
            "gridcolor": "white",
            "gridwidth": 2,
            "linecolor": "white",
            "showbackground": true,
            "ticks": "",
            "zerolinecolor": "white"
           }
          },
          "shapedefaults": {
           "line": {
            "color": "#2a3f5f"
           }
          },
          "ternary": {
           "aaxis": {
            "gridcolor": "white",
            "linecolor": "white",
            "ticks": ""
           },
           "baxis": {
            "gridcolor": "white",
            "linecolor": "white",
            "ticks": ""
           },
           "bgcolor": "#E5ECF6",
           "caxis": {
            "gridcolor": "white",
            "linecolor": "white",
            "ticks": ""
           }
          },
          "title": {
           "x": 0.05
          },
          "xaxis": {
           "automargin": true,
           "gridcolor": "white",
           "linecolor": "white",
           "ticks": "",
           "title": {
            "standoff": 15
           },
           "zerolinecolor": "white",
           "zerolinewidth": 2
          },
          "yaxis": {
           "automargin": true,
           "gridcolor": "white",
           "linecolor": "white",
           "ticks": "",
           "title": {
            "standoff": 15
           },
           "zerolinecolor": "white",
           "zerolinewidth": 2
          }
         }
        }
       }
      },
      "text/html": [
       "<div>\n",
       "        \n",
       "        \n",
       "            <div id=\"61425931-43ed-4a93-ab72-c3aeb3363801\" class=\"plotly-graph-div\" style=\"height:525px; width:100%;\"></div>\n",
       "            <script type=\"text/javascript\">\n",
       "                require([\"plotly\"], function(Plotly) {\n",
       "                    window.PLOTLYENV=window.PLOTLYENV || {};\n",
       "                    \n",
       "                if (document.getElementById(\"61425931-43ed-4a93-ab72-c3aeb3363801\")) {\n",
       "                    Plotly.newPlot(\n",
       "                        '61425931-43ed-4a93-ab72-c3aeb3363801',\n",
       "                        [{\"name\": \"Emerald\", \"type\": \"scatter\", \"x\": [\"2010-12-01T00:00:00\", \"2011-03-01T00:00:00\", \"2011-06-01T00:00:00\", \"2011-09-01T00:00:00\", \"2011-12-01T00:00:00\", \"2012-03-01T00:00:00\", \"2012-06-01T00:00:00\", \"2012-09-01T00:00:00\", \"2012-12-01T00:00:00\", \"2013-03-01T00:00:00\", \"2013-06-01T00:00:00\", \"2013-09-01T00:00:00\", \"2013-12-01T00:00:00\", \"2014-03-01T00:00:00\", \"2014-06-01T00:00:00\", \"2014-09-01T00:00:00\", \"2014-12-01T00:00:00\", \"2015-03-01T00:00:00\", \"2015-06-01T00:00:00\", \"2015-09-01T00:00:00\", \"2015-12-01T00:00:00\", \"2016-03-01T00:00:00\", \"2016-06-01T00:00:00\", \"2016-09-01T00:00:00\", \"2016-12-01T00:00:00\", \"2017-03-01T00:00:00\", \"2017-06-01T00:00:00\", \"2017-09-01T00:00:00\", \"2017-12-01T00:00:00\", \"2018-03-01T00:00:00\", \"2018-06-01T00:00:00\", \"2018-09-01T00:00:00\", \"2018-12-01T00:00:00\", \"2019-03-01T00:00:00\", \"2019-06-01T00:00:00\", \"2019-09-01T00:00:00\", \"2019-12-01T00:00:00\"], \"y\": [2.5, 2.7, 2.6, 2.4, 2.3, 2.0, 1.9, 1.8, 2.0, 2.2, 2.7, 3.0, 3.0, 2.9, 2.6, 2.5, 2.7, 3.2, 3.7, 4.6, 4.5, 4.1, 3.9, 3.2, 3.1, 3.3, 3.6, 3.6, 3.8, 3.7, 3.5, 3.4, 3.2, 3.0, 2.7, 3.0, 3.2]}, {\"name\": \"Central Queensland\", \"type\": \"scatter\", \"x\": [\"2010-12-01T00:00:00\", \"2011-03-01T00:00:00\", \"2011-06-01T00:00:00\", \"2011-09-01T00:00:00\", \"2011-12-01T00:00:00\", \"2012-03-01T00:00:00\", \"2012-06-01T00:00:00\", \"2012-09-01T00:00:00\", \"2012-12-01T00:00:00\", \"2013-03-01T00:00:00\", \"2013-06-01T00:00:00\", \"2013-09-01T00:00:00\", \"2013-12-01T00:00:00\", \"2014-03-01T00:00:00\", \"2014-06-01T00:00:00\", \"2014-09-01T00:00:00\", \"2014-12-01T00:00:00\", \"2015-03-01T00:00:00\", \"2015-06-01T00:00:00\", \"2015-09-01T00:00:00\", \"2015-12-01T00:00:00\", \"2016-03-01T00:00:00\", \"2016-06-01T00:00:00\", \"2016-09-01T00:00:00\", \"2016-12-01T00:00:00\", \"2017-03-01T00:00:00\", \"2017-06-01T00:00:00\", \"2017-09-01T00:00:00\", \"2017-12-01T00:00:00\", \"2018-03-01T00:00:00\", \"2018-06-01T00:00:00\", \"2018-09-01T00:00:00\", \"2018-12-01T00:00:00\", \"2019-03-01T00:00:00\", \"2019-06-01T00:00:00\", \"2019-09-01T00:00:00\", \"2019-12-01T00:00:00\"], \"y\": [6.838709677419356, 6.951612903225806, 6.9709677419354845, 6.86774193548387, 6.5612903225806445, 6.258064516129032, 5.725806451612904, 5.629032258064514, 5.983870967741935, 6.487096774193549, 7.5677419354838715, 8.13225806451613, 7.948387096774194, 7.351612903225806, 6.419354838709676, 5.729032258064516, 5.8419354838709685, 6.380645161290323, 7.164516129032259, 8.638709677419357, 8.38709677419355, 7.690322580645161, 7.554838709677418, 6.738709677419355, 6.8354838709677415, 7.506451612903225, 7.916129032258065, 7.812903225806453, 7.94516129032258, 7.748387096774194, 7.635483870967741, 7.60967741935484, 7.467741935483871, 7.045161290322579, 6.39032258064516, 7.490322580645161, 7.961290322580645]}],\n",
       "                        {\"template\": {\"data\": {\"bar\": [{\"error_x\": {\"color\": \"#2a3f5f\"}, \"error_y\": {\"color\": \"#2a3f5f\"}, \"marker\": {\"line\": {\"color\": \"#E5ECF6\", \"width\": 0.5}}, \"type\": \"bar\"}], \"barpolar\": [{\"marker\": {\"line\": {\"color\": \"#E5ECF6\", \"width\": 0.5}}, \"type\": \"barpolar\"}], \"carpet\": [{\"aaxis\": {\"endlinecolor\": \"#2a3f5f\", \"gridcolor\": \"white\", \"linecolor\": \"white\", \"minorgridcolor\": \"white\", \"startlinecolor\": \"#2a3f5f\"}, \"baxis\": {\"endlinecolor\": \"#2a3f5f\", \"gridcolor\": \"white\", \"linecolor\": \"white\", \"minorgridcolor\": \"white\", \"startlinecolor\": \"#2a3f5f\"}, \"type\": \"carpet\"}], \"choropleth\": [{\"colorbar\": {\"outlinewidth\": 0, \"ticks\": \"\"}, \"type\": \"choropleth\"}], \"contour\": [{\"colorbar\": {\"outlinewidth\": 0, \"ticks\": \"\"}, \"colorscale\": [[0.0, \"#0d0887\"], [0.1111111111111111, \"#46039f\"], [0.2222222222222222, \"#7201a8\"], [0.3333333333333333, \"#9c179e\"], [0.4444444444444444, \"#bd3786\"], [0.5555555555555556, \"#d8576b\"], [0.6666666666666666, \"#ed7953\"], [0.7777777777777778, \"#fb9f3a\"], [0.8888888888888888, \"#fdca26\"], [1.0, \"#f0f921\"]], \"type\": \"contour\"}], \"contourcarpet\": [{\"colorbar\": {\"outlinewidth\": 0, \"ticks\": \"\"}, \"type\": \"contourcarpet\"}], \"heatmap\": [{\"colorbar\": {\"outlinewidth\": 0, \"ticks\": \"\"}, \"colorscale\": [[0.0, \"#0d0887\"], [0.1111111111111111, \"#46039f\"], [0.2222222222222222, \"#7201a8\"], [0.3333333333333333, \"#9c179e\"], [0.4444444444444444, \"#bd3786\"], [0.5555555555555556, \"#d8576b\"], [0.6666666666666666, \"#ed7953\"], [0.7777777777777778, \"#fb9f3a\"], [0.8888888888888888, \"#fdca26\"], [1.0, \"#f0f921\"]], \"type\": \"heatmap\"}], \"heatmapgl\": [{\"colorbar\": {\"outlinewidth\": 0, \"ticks\": \"\"}, \"colorscale\": [[0.0, \"#0d0887\"], [0.1111111111111111, \"#46039f\"], [0.2222222222222222, \"#7201a8\"], [0.3333333333333333, \"#9c179e\"], [0.4444444444444444, \"#bd3786\"], [0.5555555555555556, \"#d8576b\"], [0.6666666666666666, \"#ed7953\"], [0.7777777777777778, \"#fb9f3a\"], [0.8888888888888888, \"#fdca26\"], [1.0, \"#f0f921\"]], \"type\": \"heatmapgl\"}], \"histogram\": [{\"marker\": {\"colorbar\": {\"outlinewidth\": 0, \"ticks\": \"\"}}, \"type\": \"histogram\"}], \"histogram2d\": [{\"colorbar\": {\"outlinewidth\": 0, \"ticks\": \"\"}, \"colorscale\": [[0.0, \"#0d0887\"], [0.1111111111111111, \"#46039f\"], [0.2222222222222222, \"#7201a8\"], [0.3333333333333333, \"#9c179e\"], [0.4444444444444444, \"#bd3786\"], [0.5555555555555556, \"#d8576b\"], [0.6666666666666666, \"#ed7953\"], [0.7777777777777778, \"#fb9f3a\"], [0.8888888888888888, \"#fdca26\"], [1.0, \"#f0f921\"]], \"type\": \"histogram2d\"}], \"histogram2dcontour\": [{\"colorbar\": {\"outlinewidth\": 0, \"ticks\": \"\"}, \"colorscale\": [[0.0, \"#0d0887\"], [0.1111111111111111, \"#46039f\"], [0.2222222222222222, \"#7201a8\"], [0.3333333333333333, \"#9c179e\"], [0.4444444444444444, \"#bd3786\"], [0.5555555555555556, \"#d8576b\"], [0.6666666666666666, \"#ed7953\"], [0.7777777777777778, \"#fb9f3a\"], [0.8888888888888888, \"#fdca26\"], [1.0, \"#f0f921\"]], \"type\": \"histogram2dcontour\"}], \"mesh3d\": [{\"colorbar\": {\"outlinewidth\": 0, \"ticks\": \"\"}, \"type\": \"mesh3d\"}], \"parcoords\": [{\"line\": {\"colorbar\": {\"outlinewidth\": 0, \"ticks\": \"\"}}, \"type\": \"parcoords\"}], \"pie\": [{\"automargin\": true, \"type\": \"pie\"}], \"scatter\": [{\"marker\": {\"colorbar\": {\"outlinewidth\": 0, \"ticks\": \"\"}}, \"type\": \"scatter\"}], \"scatter3d\": [{\"line\": {\"colorbar\": {\"outlinewidth\": 0, \"ticks\": \"\"}}, \"marker\": {\"colorbar\": {\"outlinewidth\": 0, \"ticks\": \"\"}}, \"type\": \"scatter3d\"}], \"scattercarpet\": [{\"marker\": {\"colorbar\": {\"outlinewidth\": 0, \"ticks\": \"\"}}, \"type\": \"scattercarpet\"}], \"scattergeo\": [{\"marker\": {\"colorbar\": {\"outlinewidth\": 0, \"ticks\": \"\"}}, \"type\": \"scattergeo\"}], \"scattergl\": [{\"marker\": {\"colorbar\": {\"outlinewidth\": 0, \"ticks\": \"\"}}, \"type\": \"scattergl\"}], \"scattermapbox\": [{\"marker\": {\"colorbar\": {\"outlinewidth\": 0, \"ticks\": \"\"}}, \"type\": \"scattermapbox\"}], \"scatterpolar\": [{\"marker\": {\"colorbar\": {\"outlinewidth\": 0, \"ticks\": \"\"}}, \"type\": \"scatterpolar\"}], \"scatterpolargl\": [{\"marker\": {\"colorbar\": {\"outlinewidth\": 0, \"ticks\": \"\"}}, \"type\": \"scatterpolargl\"}], \"scatterternary\": [{\"marker\": {\"colorbar\": {\"outlinewidth\": 0, \"ticks\": \"\"}}, \"type\": \"scatterternary\"}], \"surface\": [{\"colorbar\": {\"outlinewidth\": 0, \"ticks\": \"\"}, \"colorscale\": [[0.0, \"#0d0887\"], [0.1111111111111111, \"#46039f\"], [0.2222222222222222, \"#7201a8\"], [0.3333333333333333, \"#9c179e\"], [0.4444444444444444, \"#bd3786\"], [0.5555555555555556, \"#d8576b\"], [0.6666666666666666, \"#ed7953\"], [0.7777777777777778, \"#fb9f3a\"], [0.8888888888888888, \"#fdca26\"], [1.0, \"#f0f921\"]], \"type\": \"surface\"}], \"table\": [{\"cells\": {\"fill\": {\"color\": \"#EBF0F8\"}, \"line\": {\"color\": \"white\"}}, \"header\": {\"fill\": {\"color\": \"#C8D4E3\"}, \"line\": {\"color\": \"white\"}}, \"type\": \"table\"}]}, \"layout\": {\"annotationdefaults\": {\"arrowcolor\": \"#2a3f5f\", \"arrowhead\": 0, \"arrowwidth\": 1}, \"coloraxis\": {\"colorbar\": {\"outlinewidth\": 0, \"ticks\": \"\"}}, \"colorscale\": {\"diverging\": [[0, \"#8e0152\"], [0.1, \"#c51b7d\"], [0.2, \"#de77ae\"], [0.3, \"#f1b6da\"], [0.4, \"#fde0ef\"], [0.5, \"#f7f7f7\"], [0.6, \"#e6f5d0\"], [0.7, \"#b8e186\"], [0.8, \"#7fbc41\"], [0.9, \"#4d9221\"], [1, \"#276419\"]], \"sequential\": [[0.0, \"#0d0887\"], [0.1111111111111111, \"#46039f\"], [0.2222222222222222, \"#7201a8\"], [0.3333333333333333, \"#9c179e\"], [0.4444444444444444, \"#bd3786\"], [0.5555555555555556, \"#d8576b\"], [0.6666666666666666, \"#ed7953\"], [0.7777777777777778, \"#fb9f3a\"], [0.8888888888888888, \"#fdca26\"], [1.0, \"#f0f921\"]], \"sequentialminus\": [[0.0, \"#0d0887\"], [0.1111111111111111, \"#46039f\"], [0.2222222222222222, \"#7201a8\"], [0.3333333333333333, \"#9c179e\"], [0.4444444444444444, \"#bd3786\"], [0.5555555555555556, \"#d8576b\"], [0.6666666666666666, \"#ed7953\"], [0.7777777777777778, \"#fb9f3a\"], [0.8888888888888888, \"#fdca26\"], [1.0, \"#f0f921\"]]}, \"colorway\": [\"#636efa\", \"#EF553B\", \"#00cc96\", \"#ab63fa\", \"#FFA15A\", \"#19d3f3\", \"#FF6692\", \"#B6E880\", \"#FF97FF\", \"#FECB52\"], \"font\": {\"color\": \"#2a3f5f\"}, \"geo\": {\"bgcolor\": \"white\", \"lakecolor\": \"white\", \"landcolor\": \"#E5ECF6\", \"showlakes\": true, \"showland\": true, \"subunitcolor\": \"white\"}, \"hoverlabel\": {\"align\": \"left\"}, \"hovermode\": \"closest\", \"mapbox\": {\"style\": \"light\"}, \"paper_bgcolor\": \"white\", \"plot_bgcolor\": \"#E5ECF6\", \"polar\": {\"angularaxis\": {\"gridcolor\": \"white\", \"linecolor\": \"white\", \"ticks\": \"\"}, \"bgcolor\": \"#E5ECF6\", \"radialaxis\": {\"gridcolor\": \"white\", \"linecolor\": \"white\", \"ticks\": \"\"}}, \"scene\": {\"xaxis\": {\"backgroundcolor\": \"#E5ECF6\", \"gridcolor\": \"white\", \"gridwidth\": 2, \"linecolor\": \"white\", \"showbackground\": true, \"ticks\": \"\", \"zerolinecolor\": \"white\"}, \"yaxis\": {\"backgroundcolor\": \"#E5ECF6\", \"gridcolor\": \"white\", \"gridwidth\": 2, \"linecolor\": \"white\", \"showbackground\": true, \"ticks\": \"\", \"zerolinecolor\": \"white\"}, \"zaxis\": {\"backgroundcolor\": \"#E5ECF6\", \"gridcolor\": \"white\", \"gridwidth\": 2, \"linecolor\": \"white\", \"showbackground\": true, \"ticks\": \"\", \"zerolinecolor\": \"white\"}}, \"shapedefaults\": {\"line\": {\"color\": \"#2a3f5f\"}}, \"ternary\": {\"aaxis\": {\"gridcolor\": \"white\", \"linecolor\": \"white\", \"ticks\": \"\"}, \"baxis\": {\"gridcolor\": \"white\", \"linecolor\": \"white\", \"ticks\": \"\"}, \"bgcolor\": \"#E5ECF6\", \"caxis\": {\"gridcolor\": \"white\", \"linecolor\": \"white\", \"ticks\": \"\"}}, \"title\": {\"x\": 0.05}, \"xaxis\": {\"automargin\": true, \"gridcolor\": \"white\", \"linecolor\": \"white\", \"ticks\": \"\", \"title\": {\"standoff\": 15}, \"zerolinecolor\": \"white\", \"zerolinewidth\": 2}, \"yaxis\": {\"automargin\": true, \"gridcolor\": \"white\", \"linecolor\": \"white\", \"ticks\": \"\", \"title\": {\"standoff\": 15}, \"zerolinecolor\": \"white\", \"zerolinewidth\": 2}}}},\n",
       "                        {\"responsive\": true}\n",
       "                    ).then(function(){\n",
       "                            \n",
       "var gd = document.getElementById('61425931-43ed-4a93-ab72-c3aeb3363801');\n",
       "var x = new MutationObserver(function (mutations, observer) {{\n",
       "        var display = window.getComputedStyle(gd).display;\n",
       "        if (!display || display === 'none') {{\n",
       "            console.log([gd, 'removed!']);\n",
       "            Plotly.purge(gd);\n",
       "            observer.disconnect();\n",
       "        }}\n",
       "}});\n",
       "\n",
       "// Listen for the removal of the full notebook cells\n",
       "var notebookContainer = gd.closest('#notebook-container');\n",
       "if (notebookContainer) {{\n",
       "    x.observe(notebookContainer, {childList: true});\n",
       "}}\n",
       "\n",
       "// Listen for the clearing of the current output cell\n",
       "var outputEl = gd.closest('.output');\n",
       "if (outputEl) {{\n",
       "    x.observe(outputEl, {childList: true});\n",
       "}}\n",
       "\n",
       "                        })\n",
       "                };\n",
       "                });\n",
       "            </script>\n",
       "        </div>"
      ]
     },
     "metadata": {},
     "output_type": "display_data"
    }
   ],
   "source": [
    "check_suburb('Emerald','Unemployment Rate','SA4_NAME_2016')"
   ]
  },
  {
   "cell_type": "code",
   "execution_count": null,
   "metadata": {},
   "outputs": [],
   "source": []
  }
 ],
 "metadata": {
  "kernelspec": {
   "display_name": "Python 3",
   "language": "python",
   "name": "python3"
  },
  "language_info": {
   "codemirror_mode": {
    "name": "ipython",
    "version": 3
   },
   "file_extension": ".py",
   "mimetype": "text/x-python",
   "name": "python",
   "nbconvert_exporter": "python",
   "pygments_lexer": "ipython3",
   "version": "3.6.1"
  }
 },
 "nbformat": 4,
 "nbformat_minor": 2
}
